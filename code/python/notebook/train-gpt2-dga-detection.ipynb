{
 "cells": [
  {
   "cell_type": "code",
   "execution_count": 1,
   "metadata": {},
   "outputs": [],
   "source": [
    "#!pip install datasets\n",
    "#!pip install scikit-learn\n",
    "#!pip install transformers"
   ]
  },
  {
   "cell_type": "code",
   "execution_count": 2,
   "metadata": {},
   "outputs": [],
   "source": [
    "import datasets\n",
    "import torch"
   ]
  },
  {
   "cell_type": "code",
   "execution_count": 96,
   "metadata": {},
   "outputs": [
    {
     "name": "stderr",
     "output_type": "stream",
     "text": [
      "Found cached dataset dga-detection (/root/.cache/huggingface/datasets/harpomaxx___dga-detection/default/0.0.0/4bf750f8e009387bc45fc3d21c897b3c951c4d8cdf18a69d513e481198d1beb0)\n"
     ]
    },
    {
     "data": {
      "application/vnd.jupyter.widget-view+json": {
       "model_id": "81e874de66014660ac8d5856b9833367",
       "version_major": 2,
       "version_minor": 0
      },
      "text/plain": [
       "  0%|          | 0/3 [00:00<?, ?it/s]"
      ]
     },
     "metadata": {},
     "output_type": "display_data"
    },
    {
     "data": {
      "text/plain": [
       "['normal.alexa',\n",
       " 'normal.alexa',\n",
       " 'normal.alexa',\n",
       " 'normal.alexa',\n",
       " 'normal.alexa',\n",
       " 'dga.tinba',\n",
       " 'dga.post',\n",
       " 'dga.necurs',\n",
       " 'dga.geodo',\n",
       " 'dga.post',\n",
       " 'dga.symmi',\n",
       " 'dga.banjori',\n",
       " 'dga.qakbot',\n",
       " 'normal.alexa',\n",
       " 'normal.alexa',\n",
       " 'normal.alexa',\n",
       " 'dga.pykspa',\n",
       " 'dga.banjori',\n",
       " 'normal.alexa',\n",
       " 'dga.banjori',\n",
       " 'normal.alexa',\n",
       " 'normal.alexa',\n",
       " 'normal.alexa',\n",
       " 'normal.alexa',\n",
       " 'dga.pykspa',\n",
       " 'normal.alexa',\n",
       " 'dga.post',\n",
       " 'dga.post',\n",
       " 'dga.tinba',\n",
       " 'dga.ramnit',\n",
       " 'dga.cryptolocker',\n",
       " 'dga.qakbot',\n",
       " 'normal.alexa',\n",
       " 'normal.alexa',\n",
       " 'normal.alexa',\n",
       " 'normal.alexa',\n",
       " 'dga.dyre',\n",
       " 'dga.dyre',\n",
       " 'dga.banjori',\n",
       " 'dga.kraken',\n",
       " 'dga.shiotob/urlzone/bebloh',\n",
       " 'dga.banjori',\n",
       " 'dga.kraken',\n",
       " 'normal.alexa',\n",
       " 'dga.tinba',\n",
       " 'dga.banjori',\n",
       " 'dga.banjori',\n",
       " 'normal.alexa',\n",
       " 'dga.rovnix',\n",
       " 'normal.alexa',\n",
       " 'normal.alexa',\n",
       " 'dga.post',\n",
       " 'dga.qakbot',\n",
       " 'normal.alexa',\n",
       " 'normal.alexa',\n",
       " 'dga.banjori',\n",
       " 'normal.alexa',\n",
       " 'normal.alexa',\n",
       " 'dga.banjori',\n",
       " 'dga.ranbyus',\n",
       " 'dga.post',\n",
       " 'normal.alexa',\n",
       " 'dga.cryptolocker',\n",
       " 'dga.banjori',\n",
       " 'dga.necurs',\n",
       " 'normal.alexa',\n",
       " 'dga.banjori',\n",
       " 'normal.alexa',\n",
       " 'normal.alexa',\n",
       " 'normal.alexa',\n",
       " 'dga.rovnix',\n",
       " 'dga.banjori',\n",
       " 'dga.post',\n",
       " 'dga.banjori',\n",
       " 'normal.alexa',\n",
       " 'dga.post',\n",
       " 'dga.murofet',\n",
       " 'dga.post',\n",
       " 'dga.rovnix',\n",
       " 'dga.post',\n",
       " 'dga.banjori',\n",
       " 'dga.murofet',\n",
       " 'dga.cryptolocker',\n",
       " 'normal.alexa',\n",
       " 'normal.alexa',\n",
       " 'normal.alexa',\n",
       " 'dga.gameover',\n",
       " 'dga.ramnit',\n",
       " 'dga.murofet',\n",
       " 'dga.murofet',\n",
       " 'normal.alexa',\n",
       " 'dga.shiotob/urlzone/bebloh',\n",
       " 'normal.alexa',\n",
       " 'normal.alexa',\n",
       " 'normal.alexa',\n",
       " 'normal.alexa',\n",
       " 'dga.tinba',\n",
       " 'normal.alexa',\n",
       " 'dga.murofet']"
      ]
     },
     "execution_count": 96,
     "metadata": {},
     "output_type": "execute_result"
    }
   ],
   "source": [
    "import datasets\n",
    "dataset = datasets.load_dataset(\"harpomaxx/dga-detection\")\n",
    "dataset['train'].shuffle()['label'][1:100]"
   ]
  },
  {
   "cell_type": "code",
   "execution_count": 4,
   "metadata": {},
   "outputs": [
    {
     "data": {
      "text/plain": [
       "{'domain': '0-1.ru', 'label': 'normal.alexa', 'class': 0}"
      ]
     },
     "execution_count": 4,
     "metadata": {},
     "output_type": "execute_result"
    }
   ],
   "source": [
    "dataset.keys()\n",
    "dataset['train'][0]"
   ]
  },
  {
   "cell_type": "code",
   "execution_count": 5,
   "metadata": {},
   "outputs": [
    {
     "data": {
      "text/plain": [
       "Dataset({\n",
       "    features: ['domain', 'label', 'class'],\n",
       "    num_rows: 1024\n",
       "})"
      ]
     },
     "execution_count": 5,
     "metadata": {},
     "output_type": "execute_result"
    }
   ],
   "source": [
    "dataset['train'].select(range(0,1024))"
   ]
  },
  {
   "cell_type": "code",
   "execution_count": 6,
   "metadata": {},
   "outputs": [],
   "source": [
    "model_checkpoint = \"distilgpt2\"\n",
    "model_checkpoint = \"gpt2\""
   ]
  },
  {
   "cell_type": "code",
   "execution_count": 7,
   "metadata": {},
   "outputs": [
    {
     "data": {
      "application/vnd.jupyter.widget-view+json": {
       "model_id": "e9274a95c9c74b348892916a2d810c9e",
       "version_major": 2,
       "version_minor": 0
      },
      "text/plain": [
       "Downloading (…)lve/main/config.json:   0%|          | 0.00/665 [00:00<?, ?B/s]"
      ]
     },
     "metadata": {},
     "output_type": "display_data"
    },
    {
     "data": {
      "application/vnd.jupyter.widget-view+json": {
       "model_id": "0f37884a38f94adf8efea7e63164d957",
       "version_major": 2,
       "version_minor": 0
      },
      "text/plain": [
       "Downloading (…)olve/main/vocab.json:   0%|          | 0.00/1.04M [00:00<?, ?B/s]"
      ]
     },
     "metadata": {},
     "output_type": "display_data"
    },
    {
     "data": {
      "application/vnd.jupyter.widget-view+json": {
       "model_id": "c8b0e945338645de95188dd9ced3b123",
       "version_major": 2,
       "version_minor": 0
      },
      "text/plain": [
       "Downloading (…)olve/main/merges.txt:   0%|          | 0.00/456k [00:00<?, ?B/s]"
      ]
     },
     "metadata": {},
     "output_type": "display_data"
    },
    {
     "data": {
      "application/vnd.jupyter.widget-view+json": {
       "model_id": "36bae04007ef4625a1c9d0b1578bea2d",
       "version_major": 2,
       "version_minor": 0
      },
      "text/plain": [
       "Downloading (…)/main/tokenizer.json:   0%|          | 0.00/1.36M [00:00<?, ?B/s]"
      ]
     },
     "metadata": {},
     "output_type": "display_data"
    }
   ],
   "source": [
    "from transformers import AutoTokenizer\n",
    "tokenizer = AutoTokenizer.from_pretrained(model_checkpoint,use_fast = True )"
   ]
  },
  {
   "attachments": {},
   "cell_type": "markdown",
   "metadata": {},
   "source": [
    "**Note:**\n",
    "When you're using a new tokenizer with a different vocabulary size, the original token embeddings may not match the dimensions of the new tokenizer's vocabulary. In order to address this mismatch, you need to resize the token embeddings to match the new tokenizer's vocabulary size."
   ]
  },
  {
   "attachments": {},
   "cell_type": "markdown",
   "metadata": {},
   "source": [
    "The padding token is used to pad sequences to a fixed length during tokenization, especially when working with batched data. It ensures that all sequences have the same length, which is necessary for efficient processing in deep learning models. By default, Hugging Face tokenizers use a special token called [PAD] as the padding token.\n",
    "\n",
    "In some cases, you may want to change the padding token to a different token in the tokenizer's vocabulary. In the line tokenizer.pad_token = tokenizer.eos_token, the padding token is set to be the same as the end-of-sequence (EOS) token.\n",
    "\n",
    "By making the padding token the same as the EOS token, you are essentially indicating that sequences should be padded with the EOS token. This means that during tokenization, when a sequence is shorter than the maximum length, it will be padded with EOS tokens until it reaches the maximum length."
   ]
  },
  {
   "cell_type": "code",
   "execution_count": 8,
   "metadata": {},
   "outputs": [],
   "source": [
    "# default to left padding\n",
    "# tokenizer.padding_side = \"left\"\n",
    "# Define PAD Token = EOS Token = 50256\n",
    "tokenizer.pad_token = tokenizer.eos_token"
   ]
  },
  {
   "cell_type": "code",
   "execution_count": 9,
   "metadata": {},
   "outputs": [
    {
     "data": {
      "text/plain": [
       "{'input_ids': [31373, 661], 'attention_mask': [1, 1]}"
      ]
     },
     "execution_count": 9,
     "metadata": {},
     "output_type": "execute_result"
    }
   ],
   "source": [
    "tokenizer(\"hello people\")"
   ]
  },
  {
   "cell_type": "code",
   "execution_count": 10,
   "metadata": {},
   "outputs": [],
   "source": [
    "def tokenize_function(examples):\n",
    "    return tokenizer(examples[\"domain\"])"
   ]
  },
  {
   "attachments": {},
   "cell_type": "markdown",
   "metadata": {},
   "source": [
    "We remove the `domain` and `label` columns an apply the tokenization function to all the datasets"
   ]
  },
  {
   "cell_type": "code",
   "execution_count": 11,
   "metadata": {},
   "outputs": [
    {
     "data": {
      "application/vnd.jupyter.widget-view+json": {
       "model_id": "25e9975593ef4cf68e93f2c281787606",
       "version_major": 2,
       "version_minor": 0
      },
      "text/plain": [
       "Map (num_proc=8):   0%|          | 0/2042947 [00:00<?, ? examples/s]"
      ]
     },
     "metadata": {},
     "output_type": "display_data"
    },
    {
     "data": {
      "application/vnd.jupyter.widget-view+json": {
       "model_id": "4d8499860ebb444ab80ea0c0f616bbbc",
       "version_major": 2,
       "version_minor": 0
      },
      "text/plain": [
       "Map (num_proc=8):   0%|          | 0/583699 [00:00<?, ? examples/s]"
      ]
     },
     "metadata": {},
     "output_type": "display_data"
    },
    {
     "data": {
      "application/vnd.jupyter.widget-view+json": {
       "model_id": "f12e24834699443fbb555403e5bf610d",
       "version_major": 2,
       "version_minor": 0
      },
      "text/plain": [
       "Map (num_proc=8):   0%|          | 0/291850 [00:00<?, ? examples/s]"
      ]
     },
     "metadata": {},
     "output_type": "display_data"
    }
   ],
   "source": [
    "tokenized_datasets = dataset.map(tokenize_function, \n",
    "                                 batched=True, \n",
    "                                 num_proc=8, \n",
    "                                 remove_columns=[\"domain\",\"label\"],\n",
    "                                 )"
   ]
  },
  {
   "attachments": {},
   "cell_type": "markdown",
   "metadata": {},
   "source": [
    "Now create a batch of examples using DataCollatorWithPadding. It’s more efficient to dynamically pad the sentences to the longest length in a batch during collation, instead of padding the whole dataset to the maximum length."
   ]
  },
  {
   "cell_type": "code",
   "execution_count": 12,
   "metadata": {},
   "outputs": [],
   "source": [
    "from transformers import DataCollatorWithPadding\n",
    "\n",
    "data_collator = DataCollatorWithPadding(tokenizer=tokenizer)"
   ]
  },
  {
   "cell_type": "code",
   "execution_count": 13,
   "metadata": {},
   "outputs": [
    {
     "data": {
      "text/plain": [
       "{'class': 0,\n",
       " 'input_ids': [15, 12, 21, 13, 785],\n",
       " 'attention_mask': [1, 1, 1, 1, 1]}"
      ]
     },
     "execution_count": 13,
     "metadata": {},
     "output_type": "execute_result"
    }
   ],
   "source": [
    "dataset[\"train\"][5]\n",
    "tokenized_datasets[\"train\"][1]"
   ]
  },
  {
   "attachments": {},
   "cell_type": "markdown",
   "metadata": {},
   "source": [
    "Rename  the `class` column to `label`"
   ]
  },
  {
   "cell_type": "code",
   "execution_count": 14,
   "metadata": {},
   "outputs": [],
   "source": [
    "tokenized_datasets = tokenized_datasets.rename_column(\"class\",\"labels\")"
   ]
  },
  {
   "cell_type": "code",
   "execution_count": 15,
   "metadata": {},
   "outputs": [
    {
     "name": "stderr",
     "output_type": "stream",
     "text": [
      "You're using a GPT2TokenizerFast tokenizer. Please note that with a fast tokenizer, using the `__call__` method is faster than using a method to encode the text followed by a call to the `pad` method to get a padded encoding.\n"
     ]
    }
   ],
   "source": [
    "encoded_inputs = tokenizer(dataset['train'][1:100]['domain'], padding=True, truncation=True, return_tensors='pt')\n",
    "batch = data_collator(encoded_inputs)"
   ]
  },
  {
   "cell_type": "code",
   "execution_count": 16,
   "metadata": {},
   "outputs": [
    {
     "data": {
      "text/plain": [
       "{'input_ids': tensor([[   15,    12,    21,  ..., 50256, 50256, 50256],\n",
       "        [   15,    12,  1899,  ..., 50256, 50256, 50256],\n",
       "        [   15,    12,  1899,  ..., 50256, 50256, 50256],\n",
       "        ...,\n",
       "        [25816, 35634,  2189,  ..., 50256, 50256, 50256],\n",
       "        [25816, 35634,  2189,  ..., 50256, 50256, 50256],\n",
       "        [25816,  2777,    88,  ..., 50256, 50256, 50256]]), 'attention_mask': tensor([[1, 1, 1,  ..., 0, 0, 0],\n",
       "        [1, 1, 1,  ..., 0, 0, 0],\n",
       "        [1, 1, 1,  ..., 0, 0, 0],\n",
       "        ...,\n",
       "        [1, 1, 1,  ..., 0, 0, 0],\n",
       "        [1, 1, 1,  ..., 0, 0, 0],\n",
       "        [1, 1, 1,  ..., 0, 0, 0]])}"
      ]
     },
     "execution_count": 16,
     "metadata": {},
     "output_type": "execute_result"
    }
   ],
   "source": [
    "batch"
   ]
  },
  {
   "cell_type": "code",
   "execution_count": 17,
   "metadata": {},
   "outputs": [
    {
     "data": {
      "text/plain": [
       "{'domain': '0-6.com', 'label': 'normal.alexa', 'class': 0}"
      ]
     },
     "execution_count": 17,
     "metadata": {},
     "output_type": "execute_result"
    }
   ],
   "source": [
    "dataset['train'][1]"
   ]
  },
  {
   "cell_type": "code",
   "execution_count": 18,
   "metadata": {},
   "outputs": [
    {
     "data": {
      "application/vnd.jupyter.widget-view+json": {
       "model_id": "f6bec56627f34653bdb6ace370877d67",
       "version_major": 2,
       "version_minor": 0
      },
      "text/plain": [
       "Downloading pytorch_model.bin:   0%|          | 0.00/548M [00:00<?, ?B/s]"
      ]
     },
     "metadata": {},
     "output_type": "display_data"
    },
    {
     "name": "stderr",
     "output_type": "stream",
     "text": [
      "Some weights of GPT2ForSequenceClassification were not initialized from the model checkpoint at gpt2 and are newly initialized: ['score.weight']\n",
      "You should probably TRAIN this model on a down-stream task to be able to use it for predictions and inference.\n"
     ]
    }
   ],
   "source": [
    "from transformers import GPT2ForSequenceClassification\n",
    "model = GPT2ForSequenceClassification.from_pretrained(model_checkpoint,num_labels=2)\n",
    "# fix model padding token id\n",
    "model.config.pad_token_id = model.config.eos_token_id"
   ]
  },
  {
   "cell_type": "code",
   "execution_count": 19,
   "metadata": {},
   "outputs": [],
   "source": [
    "import evaluate\n",
    "\n",
    "metric = evaluate.load(\"f1\")"
   ]
  },
  {
   "cell_type": "code",
   "execution_count": 20,
   "metadata": {},
   "outputs": [],
   "source": [
    "import numpy as np\n",
    "def compute_metrics(eval_pred):\n",
    "    predictions, labels = eval_pred\n",
    "    predictions = np.argmax(predictions, axis=-1)\n",
    "    return metric.compute(predictions=predictions, references=labels)"
   ]
  },
  {
   "cell_type": "code",
   "execution_count": 21,
   "metadata": {},
   "outputs": [],
   "source": [
    "from transformers import Trainer, TrainingArguments"
   ]
  },
  {
   "cell_type": "code",
   "execution_count": 36,
   "metadata": {},
   "outputs": [],
   "source": [
    "training_args = TrainingArguments(\n",
    "    output_dir=\"gpt2-dga-detector\",\n",
    "    learning_rate=2e-5,\n",
    "    optim=\"adamw_torch\",\n",
    "    per_device_train_batch_size=16,\n",
    "    per_device_eval_batch_size=16,\n",
    "    num_train_epochs=8,\n",
    "    weight_decay=0.01,\n",
    "    evaluation_strategy=\"epoch\",\n",
    "    save_strategy=\"epoch\",\n",
    "    load_best_model_at_end=True,\n",
    "    push_to_hub=False,\n",
    "    logging_steps = 10,\n",
    "    save_total_limit = 3,\n",
    "    overwrite_output_dir = True\n",
    ")"
   ]
  },
  {
   "cell_type": "code",
   "execution_count": 87,
   "metadata": {},
   "outputs": [
    {
     "data": {
      "text/plain": [
       "291850"
      ]
     },
     "execution_count": 87,
     "metadata": {},
     "output_type": "execute_result"
    }
   ],
   "source": [
    "len(dataset['validation']['domain'])"
   ]
  },
  {
   "cell_type": "code",
   "execution_count": 24,
   "metadata": {},
   "outputs": [
    {
     "data": {
      "text/plain": [
       "Dataset({\n",
       "    features: ['labels', 'input_ids', 'attention_mask'],\n",
       "    num_rows: 2048\n",
       "})"
      ]
     },
     "execution_count": 24,
     "metadata": {},
     "output_type": "execute_result"
    }
   ],
   "source": [
    "tokenized_datasets['train'].shuffle(seed=42).select(range(0,2048))"
   ]
  },
  {
   "cell_type": "code",
   "execution_count": 37,
   "metadata": {},
   "outputs": [
    {
     "name": "stderr",
     "output_type": "stream",
     "text": [
      "Loading cached shuffled indices for dataset at /root/.cache/huggingface/datasets/harpomaxx___dga-detection/default/0.0.0/4bf750f8e009387bc45fc3d21c897b3c951c4d8cdf18a69d513e481198d1beb0/cache-1a8c954236c7abf8.arrow\n",
      "Loading cached shuffled indices for dataset at /root/.cache/huggingface/datasets/harpomaxx___dga-detection/default/0.0.0/4bf750f8e009387bc45fc3d21c897b3c951c4d8cdf18a69d513e481198d1beb0/cache-6f30e67f5447515f.arrow\n"
     ]
    }
   ],
   "source": [
    "trainer = Trainer(\n",
    "    model=model,\n",
    "    args=training_args,\n",
    "    train_dataset=tokenized_datasets['train'].shuffle(seed=42).select(range(0,8192)),\n",
    "    eval_dataset=tokenized_datasets['test'].shuffle(seed=42).select(range(0,1024)),\n",
    "    tokenizer=tokenizer,\n",
    "    data_collator=data_collator,\n",
    "    compute_metrics=compute_metrics\n",
    ")"
   ]
  },
  {
   "cell_type": "code",
   "execution_count": null,
   "metadata": {},
   "outputs": [
    {
     "data": {
      "text/html": [
       "\n",
       "    <div>\n",
       "      \n",
       "      <progress value='87' max='4096' style='width:300px; height:20px; vertical-align: middle;'></progress>\n",
       "      [  87/4096 00:05 < 04:17, 15.56 it/s, Epoch 0.17/8]\n",
       "    </div>\n",
       "    <table border=\"1\" class=\"dataframe\">\n",
       "  <thead>\n",
       " <tr style=\"text-align: left;\">\n",
       "      <th>Epoch</th>\n",
       "      <th>Training Loss</th>\n",
       "      <th>Validation Loss</th>\n",
       "    </tr>\n",
       "  </thead>\n",
       "  <tbody>\n",
       "  </tbody>\n",
       "</table><p>"
      ],
      "text/plain": [
       "<IPython.core.display.HTML object>"
      ]
     },
     "metadata": {},
     "output_type": "display_data"
    },
    {
     "data": {
      "text/plain": [
       "TrainOutput(global_step=4096, training_loss=0.008644755998890585, metrics={'train_runtime': 287.8638, 'train_samples_per_second': 227.663, 'train_steps_per_second': 14.229, 'total_flos': 688778234560512.0, 'train_loss': 0.008644755998890585, 'epoch': 8.0})"
      ]
     },
     "execution_count": 38,
     "metadata": {},
     "output_type": "execute_result"
    }
   ],
   "source": [
    "trainer.train()"
   ]
  },
  {
   "cell_type": "code",
   "execution_count": 27,
   "metadata": {},
   "outputs": [
    {
     "name": "stdout",
     "output_type": "stream",
     "text": [
      "{'eval_loss': 0.5324081182479858, 'eval_f1': 0.9304500292226767, 'eval_runtime': 0.7309, 'eval_samples_per_second': 1400.999, 'eval_steps_per_second': 87.562, 'epoch': 8.0}\n"
     ]
    }
   ],
   "source": [
    "metrics=trainer.evaluate()\n",
    "print(metrics)"
   ]
  },
  {
   "cell_type": "code",
   "execution_count": 28,
   "metadata": {},
   "outputs": [
    {
     "data": {
      "text/plain": [
       "('./CEPH/gpt2-dga-detector/tokenizer_config.json',\n",
       " './CEPH/gpt2-dga-detector/special_tokens_map.json',\n",
       " './CEPH/gpt2-dga-detector/vocab.json',\n",
       " './CEPH/gpt2-dga-detector/merges.txt',\n",
       " './CEPH/gpt2-dga-detector/added_tokens.json',\n",
       " './CEPH/gpt2-dga-detector/tokenizer.json')"
      ]
     },
     "execution_count": 28,
     "metadata": {},
     "output_type": "execute_result"
    }
   ],
   "source": [
    "model.save_pretrained(\"./CEPH/gpt2-dga-detector\")\n",
    "tokenizer.save_pretrained(\"./CEPH/gpt2-dga-detector\")"
   ]
  },
  {
   "cell_type": "code",
   "execution_count": 97,
   "metadata": {},
   "outputs": [],
   "source": [
    "from transformers import pipeline\n",
    "\n",
    "#classifier = pipeline(\"zero-shot-classification\")\n",
    "#classifier(\n",
    "#    \"This is a course about the Transformers library\",\n",
    "#    candidate_labels=[\"education\", \"politics\", \"business\"],\n",
    "#)\n",
    "#classifier = pipeline(\"zero-shot-classification\", model=\"gpt2\",device=0)\n",
    "\n",
    "classifier = pipeline(\"text-classification\", model=\"./CEPH/gpt2-dga-detector/\",device=0,batch_size=2)\n"
   ]
  },
  {
   "cell_type": "code",
   "execution_count": 16,
   "metadata": {},
   "outputs": [],
   "source": [
    "import numpy as np"
   ]
  },
  {
   "cell_type": "code",
   "execution_count": 17,
   "metadata": {},
   "outputs": [
    {
     "data": {
      "text/plain": [
       "array(['dga.bamital', 'dga.banjori', 'dga.bedep', 'dga.beebone',\n",
       "       'dga.chinad', 'dga.conficker', 'dga.corebot', 'dga.cryptolocker',\n",
       "       'dga.cryptowall', 'dga.dircrypt', 'dga.dyre', 'dga.fobber',\n",
       "       'dga.gameover', 'dga.geodo', 'dga.hesperbot', 'dga.kraken',\n",
       "       'dga.locky', 'dga.matsnu', 'dga.murofet', 'dga.necurs',\n",
       "       'dga.nymaim', 'dga.p2p', 'dga.padcrypt', 'dga.post',\n",
       "       'dga.proslikefan', 'dga.pushdo', 'dga.pykspa', 'dga.pykspa_v1',\n",
       "       'dga.pykspa_v2_fake', 'dga.pykspa_v2_real', 'dga.qadars',\n",
       "       'dga.qakbot', 'dga.ramdo', 'dga.ramnit', 'dga.ranbyus',\n",
       "       'dga.rovnix', 'dga.shifu', 'dga.shiotob/urlzone/bebloh',\n",
       "       'dga.simda', 'dga.sisron', 'dga.suppobox', 'dga.symmi',\n",
       "       'dga.tempedreve', 'dga.tinba', 'dga.vawtrak', 'dga.virut',\n",
       "       'dga.volatile', 'normal.alexa'], dtype='<U26')"
      ]
     },
     "execution_count": 17,
     "metadata": {},
     "output_type": "execute_result"
    }
   ],
   "source": [
    "np.unique(dataset['train']['label'])"
   ]
  },
  {
   "cell_type": "code",
   "execution_count": 91,
   "metadata": {},
   "outputs": [
    {
     "data": {
      "text/plain": [
       "(array(['dga.conficker', 'dga.cryptolocker', 'dga.matsnu', 'dga.pushdo',\n",
       "        'dga.ramdo', 'dga.tinba', 'dga.zeus', 'normal.bambenek'],\n",
       "       dtype='<U16'),\n",
       " array([ 17905,  13576,  23275,  33926, 100000,  99000,   1000,   3168]))"
      ]
     },
     "execution_count": 91,
     "metadata": {},
     "output_type": "execute_result"
    }
   ],
   "source": [
    "np.unique(dataset['validation']['label'],return_counts= True)"
   ]
  },
  {
   "cell_type": "code",
   "execution_count": 93,
   "metadata": {},
   "outputs": [
    {
     "data": {
      "text/plain": [
       "0.8260936258035727"
      ]
     },
     "execution_count": 93,
     "metadata": {},
     "output_type": "execute_result"
    }
   ],
   "source": [
    "236960/(236960+49884)"
   ]
  },
  {
   "cell_type": "code",
   "execution_count": 95,
   "metadata": {},
   "outputs": [
    {
     "data": {
      "text/plain": [
       "0.14389857369255155"
      ]
     },
     "execution_count": 95,
     "metadata": {},
     "output_type": "execute_result"
    }
   ],
   "source": [
    "1-(2701/(2701+454))"
   ]
  },
  {
   "cell_type": "code",
   "execution_count": 1,
   "metadata": {},
   "outputs": [
    {
     "ename": "NameError",
     "evalue": "name 'dataset' is not defined",
     "output_type": "error",
     "traceback": [
      "\u001b[0;31m---------------------------------------------------------------------------\u001b[0m",
      "\u001b[0;31mNameError\u001b[0m                                 Traceback (most recent call last)",
      "Cell \u001b[0;32mIn[1], line 1\u001b[0m\n\u001b[0;32m----> 1\u001b[0m t\u001b[39m=\u001b[39m dataset[\u001b[39m'\u001b[39m\u001b[39mvalidation\u001b[39m\u001b[39m'\u001b[39m][\u001b[39m1\u001b[39m:\u001b[39m100\u001b[39m]\n\u001b[1;32m      2\u001b[0m t\n",
      "\u001b[0;31mNameError\u001b[0m: name 'dataset' is not defined"
     ]
    }
   ],
   "source": [
    "t= dataset['validation'][1:100]\n",
    "t"
   ]
  },
  {
   "cell_type": "code",
   "execution_count": 113,
   "metadata": {},
   "outputs": [],
   "source": [
    "classifier = pipeline(\"text-classification\", model=\"./CEPH/gpt2-dga-detector/\",device=0,batch_size=1024)"
   ]
  },
  {
   "cell_type": "code",
   "execution_count": 116,
   "metadata": {},
   "outputs": [
    {
     "data": {
      "text/plain": [
       "[{'label': 'LABEL_0', 'score': 0.9999750852584839},\n",
       " {'label': 'LABEL_1', 'score': 0.9999996423721313},\n",
       " {'label': 'LABEL_1', 'score': 0.999976396560669},\n",
       " {'label': 'LABEL_1', 'score': 0.999648928642273},\n",
       " {'label': 'LABEL_0', 'score': 0.9999771118164062},\n",
       " {'label': 'LABEL_1', 'score': 0.9999997615814209},\n",
       " {'label': 'LABEL_1', 'score': 0.9999990463256836},\n",
       " {'label': 'LABEL_1', 'score': 0.9997816681861877},\n",
       " {'label': 'LABEL_0', 'score': 0.9999552965164185},\n",
       " {'label': 'LABEL_1', 'score': 0.9999994039535522},\n",
       " {'label': 'LABEL_0', 'score': 0.9987151622772217},\n",
       " {'label': 'LABEL_0', 'score': 0.9910101890563965},\n",
       " {'label': 'LABEL_0', 'score': 0.9999134540557861},\n",
       " {'label': 'LABEL_1', 'score': 0.999998927116394},\n",
       " {'label': 'LABEL_1', 'score': 0.9997219443321228},\n",
       " {'label': 'LABEL_1', 'score': 0.956656277179718},\n",
       " {'label': 'LABEL_0', 'score': 0.9999903440475464},\n",
       " {'label': 'LABEL_1', 'score': 0.9999995231628418},\n",
       " {'label': 'LABEL_0', 'score': 0.9421871900558472},\n",
       " {'label': 'LABEL_0', 'score': 0.9992396831512451},\n",
       " {'label': 'LABEL_0', 'score': 0.9999854564666748},\n",
       " {'label': 'LABEL_1', 'score': 0.9999992847442627},\n",
       " {'label': 'LABEL_0', 'score': 0.996269702911377},\n",
       " {'label': 'LABEL_0', 'score': 0.984887957572937},\n",
       " {'label': 'LABEL_0', 'score': 0.9999830722808838},\n",
       " {'label': 'LABEL_1', 'score': 0.9999699592590332},\n",
       " {'label': 'LABEL_1', 'score': 0.9999992847442627},\n",
       " {'label': 'LABEL_0', 'score': 0.9986332058906555},\n",
       " {'label': 'LABEL_0', 'score': 0.9999713897705078},\n",
       " {'label': 'LABEL_1', 'score': 0.9999948740005493},\n",
       " {'label': 'LABEL_1', 'score': 0.9999988079071045},\n",
       " {'label': 'LABEL_0', 'score': 0.999670147895813},\n",
       " {'label': 'LABEL_0', 'score': 0.9999494552612305},\n",
       " {'label': 'LABEL_0', 'score': 0.9976600408554077},\n",
       " {'label': 'LABEL_1', 'score': 0.9999986886978149},\n",
       " {'label': 'LABEL_1', 'score': 0.980930745601654},\n",
       " {'label': 'LABEL_0', 'score': 0.999967098236084},\n",
       " {'label': 'LABEL_0', 'score': 0.9820976853370667},\n",
       " {'label': 'LABEL_1', 'score': 0.9999992847442627},\n",
       " {'label': 'LABEL_1', 'score': 0.999882698059082},\n",
       " {'label': 'LABEL_0', 'score': 0.9999781847000122},\n",
       " {'label': 'LABEL_1', 'score': 0.9999101161956787},\n",
       " {'label': 'LABEL_1', 'score': 0.9999988079071045},\n",
       " {'label': 'LABEL_1', 'score': 0.9999924898147583},\n",
       " {'label': 'LABEL_0', 'score': 0.9999392032623291},\n",
       " {'label': 'LABEL_1', 'score': 0.9999995231628418},\n",
       " {'label': 'LABEL_1', 'score': 0.9989379048347473},\n",
       " {'label': 'LABEL_1', 'score': 0.9999877214431763},\n",
       " {'label': 'LABEL_0', 'score': 0.999815046787262},\n",
       " {'label': 'LABEL_1', 'score': 0.9996203184127808},\n",
       " {'label': 'LABEL_1', 'score': 0.9993929862976074},\n",
       " {'label': 'LABEL_1', 'score': 0.9998456239700317},\n",
       " {'label': 'LABEL_0', 'score': 0.9999790191650391},\n",
       " {'label': 'LABEL_1', 'score': 0.9999992847442627},\n",
       " {'label': 'LABEL_1', 'score': 0.8617180585861206},\n",
       " {'label': 'LABEL_1', 'score': 0.9999874830245972},\n",
       " {'label': 'LABEL_0', 'score': 0.9999361038208008},\n",
       " {'label': 'LABEL_1', 'score': 0.9999992847442627},\n",
       " {'label': 'LABEL_0', 'score': 0.9974755644798279},\n",
       " {'label': 'LABEL_1', 'score': 0.9999822378158569},\n",
       " {'label': 'LABEL_0', 'score': 0.9999891519546509},\n",
       " {'label': 'LABEL_1', 'score': 0.9999996423721313},\n",
       " {'label': 'LABEL_0', 'score': 0.9992774128913879},\n",
       " {'label': 'LABEL_1', 'score': 0.9905858635902405},\n",
       " {'label': 'LABEL_0', 'score': 0.9999929666519165},\n",
       " {'label': 'LABEL_1', 'score': 0.9999995231628418},\n",
       " {'label': 'LABEL_0', 'score': 0.9694620966911316},\n",
       " {'label': 'LABEL_1', 'score': 0.9999991655349731},\n",
       " {'label': 'LABEL_0', 'score': 0.9999700784683228},\n",
       " {'label': 'LABEL_1', 'score': 0.9999997615814209},\n",
       " {'label': 'LABEL_0', 'score': 0.995236337184906},\n",
       " {'label': 'LABEL_0', 'score': 0.9472600221633911},\n",
       " {'label': 'LABEL_0', 'score': 0.9999533891677856},\n",
       " {'label': 'LABEL_1', 'score': 0.9999991655349731},\n",
       " {'label': 'LABEL_0', 'score': 0.9997202754020691},\n",
       " {'label': 'LABEL_1', 'score': 0.9998219609260559},\n",
       " {'label': 'LABEL_0', 'score': 0.999985933303833},\n",
       " {'label': 'LABEL_1', 'score': 0.9999994039535522},\n",
       " {'label': 'LABEL_1', 'score': 0.9947994947433472},\n",
       " {'label': 'LABEL_0', 'score': 0.9980263113975525},\n",
       " {'label': 'LABEL_0', 'score': 0.9999643564224243},\n",
       " {'label': 'LABEL_1', 'score': 0.9999997615814209},\n",
       " {'label': 'LABEL_0', 'score': 0.999900221824646},\n",
       " {'label': 'LABEL_1', 'score': 0.9999864101409912},\n",
       " {'label': 'LABEL_0', 'score': 0.9999418258666992},\n",
       " {'label': 'LABEL_0', 'score': 0.9902780652046204},\n",
       " {'label': 'LABEL_1', 'score': 0.9999992847442627},\n",
       " {'label': 'LABEL_1', 'score': 0.9999920129776001},\n",
       " {'label': 'LABEL_0', 'score': 0.9999755620956421},\n",
       " {'label': 'LABEL_0', 'score': 0.9894431829452515},\n",
       " {'label': 'LABEL_1', 'score': 0.9999903440475464},\n",
       " {'label': 'LABEL_1', 'score': 0.9999996423721313},\n",
       " {'label': 'LABEL_0', 'score': 0.9999362230300903},\n",
       " {'label': 'LABEL_0', 'score': 0.9985169768333435},\n",
       " {'label': 'LABEL_1', 'score': 0.9999516010284424},\n",
       " {'label': 'LABEL_1', 'score': 0.9999985694885254},\n",
       " {'label': 'LABEL_0', 'score': 0.9999382495880127},\n",
       " {'label': 'LABEL_1', 'score': 0.999693751335144},\n",
       " {'label': 'LABEL_0', 'score': 0.9996457099914551},\n",
       " {'label': 'LABEL_1', 'score': 0.9999994039535522},\n",
       " {'label': 'LABEL_0', 'score': 0.999985933303833},\n",
       " {'label': 'LABEL_1', 'score': 0.9807394742965698},\n",
       " {'label': 'LABEL_1', 'score': 0.9999991655349731},\n",
       " {'label': 'LABEL_1', 'score': 0.9999996423721313},\n",
       " {'label': 'LABEL_0', 'score': 0.999984860420227},\n",
       " {'label': 'LABEL_0', 'score': 0.9998633861541748},\n",
       " {'label': 'LABEL_1', 'score': 0.9999984502792358},\n",
       " {'label': 'LABEL_1', 'score': 0.9999995231628418},\n",
       " {'label': 'LABEL_0', 'score': 0.9996300935745239},\n",
       " {'label': 'LABEL_0', 'score': 0.9993971586227417},\n",
       " {'label': 'LABEL_0', 'score': 0.9967231154441833},\n",
       " {'label': 'LABEL_1', 'score': 0.9999988079071045},\n",
       " {'label': 'LABEL_0', 'score': 0.9999830722808838},\n",
       " {'label': 'LABEL_1', 'score': 0.9206221699714661},\n",
       " {'label': 'LABEL_1', 'score': 0.9999970197677612},\n",
       " {'label': 'LABEL_1', 'score': 0.9999985694885254},\n",
       " {'label': 'LABEL_0', 'score': 0.999967098236084},\n",
       " {'label': 'LABEL_0', 'score': 0.7636213302612305},\n",
       " {'label': 'LABEL_1', 'score': 0.9999986886978149},\n",
       " {'label': 'LABEL_1', 'score': 0.9999403953552246},\n",
       " {'label': 'LABEL_0', 'score': 0.9999953508377075},\n",
       " {'label': 'LABEL_0', 'score': 0.9987837672233582},\n",
       " {'label': 'LABEL_1', 'score': 0.9999997615814209},\n",
       " {'label': 'LABEL_1', 'score': 0.9980091452598572},\n",
       " {'label': 'LABEL_0', 'score': 0.999972939491272},\n",
       " {'label': 'LABEL_0', 'score': 0.9984034895896912},\n",
       " {'label': 'LABEL_1', 'score': 0.9999996423721313},\n",
       " {'label': 'LABEL_0', 'score': 0.8156235218048096},\n",
       " {'label': 'LABEL_0', 'score': 0.9999914169311523},\n",
       " {'label': 'LABEL_1', 'score': 0.9999996423721313},\n",
       " {'label': 'LABEL_1', 'score': 0.999997615814209},\n",
       " {'label': 'LABEL_0', 'score': 0.9999687671661377},\n",
       " {'label': 'LABEL_1', 'score': 0.9999998807907104},\n",
       " {'label': 'LABEL_1', 'score': 0.9999973773956299},\n",
       " {'label': 'LABEL_0', 'score': 0.999954342842102},\n",
       " {'label': 'LABEL_0', 'score': 0.9999622106552124},\n",
       " {'label': 'LABEL_1', 'score': 0.9999992847442627},\n",
       " {'label': 'LABEL_1', 'score': 0.9998877048492432},\n",
       " {'label': 'LABEL_0', 'score': 0.999896764755249},\n",
       " {'label': 'LABEL_0', 'score': 0.9999935626983643},\n",
       " {'label': 'LABEL_1', 'score': 0.9999988079071045},\n",
       " {'label': 'LABEL_0', 'score': 0.9999347925186157},\n",
       " {'label': 'LABEL_0', 'score': 0.9999780654907227},\n",
       " {'label': 'LABEL_0', 'score': 0.9999827146530151},\n",
       " {'label': 'LABEL_1', 'score': 0.9999998807907104},\n",
       " {'label': 'LABEL_1', 'score': 0.9999827146530151},\n",
       " {'label': 'LABEL_0', 'score': 0.9997610449790955},\n",
       " {'label': 'LABEL_0', 'score': 0.9999829530715942},\n",
       " {'label': 'LABEL_1', 'score': 0.9998958110809326},\n",
       " {'label': 'LABEL_1', 'score': 0.9999574422836304},\n",
       " {'label': 'LABEL_0', 'score': 0.9990757703781128},\n",
       " {'label': 'LABEL_0', 'score': 0.9999380111694336},\n",
       " {'label': 'LABEL_1', 'score': 0.9999997615814209},\n",
       " {'label': 'LABEL_1', 'score': 0.9999810457229614},\n",
       " {'label': 'LABEL_0', 'score': 0.9908877611160278},\n",
       " {'label': 'LABEL_0', 'score': 0.9999657869338989},\n",
       " {'label': 'LABEL_1', 'score': 0.9999986886978149},\n",
       " {'label': 'LABEL_1', 'score': 0.9992848038673401},\n",
       " {'label': 'LABEL_0', 'score': 0.9999361038208008},\n",
       " {'label': 'LABEL_0', 'score': 0.9999781847000122},\n",
       " {'label': 'LABEL_1', 'score': 0.9999992847442627},\n",
       " {'label': 'LABEL_1', 'score': 0.9999957084655762},\n",
       " {'label': 'LABEL_0', 'score': 0.9945166707038879},\n",
       " {'label': 'LABEL_0', 'score': 0.9999865293502808},\n",
       " {'label': 'LABEL_1', 'score': 0.999998927116394},\n",
       " {'label': 'LABEL_1', 'score': 0.9993880987167358},\n",
       " {'label': 'LABEL_1', 'score': 0.9978105425834656},\n",
       " {'label': 'LABEL_0', 'score': 0.9999632835388184},\n",
       " {'label': 'LABEL_1', 'score': 0.9999996423721313},\n",
       " {'label': 'LABEL_1', 'score': 0.9999977350234985},\n",
       " {'label': 'LABEL_0', 'score': 0.9788888096809387},\n",
       " {'label': 'LABEL_0', 'score': 0.999983549118042},\n",
       " {'label': 'LABEL_1', 'score': 0.9999992847442627},\n",
       " {'label': 'LABEL_1', 'score': 0.9999809265136719},\n",
       " {'label': 'LABEL_1', 'score': 0.9994028806686401},\n",
       " {'label': 'LABEL_0', 'score': 0.9999569654464722},\n",
       " {'label': 'LABEL_0', 'score': 0.9999740123748779},\n",
       " {'label': 'LABEL_1', 'score': 0.9962694644927979},\n",
       " {'label': 'LABEL_1', 'score': 0.9999619722366333},\n",
       " {'label': 'LABEL_0', 'score': 0.9999854564666748},\n",
       " {'label': 'LABEL_0', 'score': 0.937851071357727},\n",
       " {'label': 'LABEL_0', 'score': 0.9946109056472778},\n",
       " {'label': 'LABEL_1', 'score': 0.9999995231628418},\n",
       " {'label': 'LABEL_0', 'score': 0.999950647354126},\n",
       " {'label': 'LABEL_1', 'score': 0.9919174313545227},\n",
       " {'label': 'LABEL_0', 'score': 0.9998577833175659},\n",
       " {'label': 'LABEL_1', 'score': 0.9999938011169434},\n",
       " {'label': 'LABEL_0', 'score': 0.9999897480010986},\n",
       " {'label': 'LABEL_0', 'score': 0.9999481439590454},\n",
       " {'label': 'LABEL_1', 'score': 0.9942024350166321},\n",
       " {'label': 'LABEL_1', 'score': 0.9999995231628418},\n",
       " {'label': 'LABEL_0', 'score': 0.9999700784683228},\n",
       " {'label': 'LABEL_0', 'score': 0.9612253904342651},\n",
       " {'label': 'LABEL_1', 'score': 0.9985306262969971},\n",
       " {'label': 'LABEL_1', 'score': 0.9999947547912598},\n",
       " {'label': 'LABEL_0', 'score': 0.9998741149902344},\n",
       " {'label': 'LABEL_1', 'score': 0.9986238479614258},\n",
       " {'label': 'LABEL_1', 'score': 0.9999656677246094},\n",
       " {'label': 'LABEL_1', 'score': 0.9999996423721313},\n",
       " {'label': 'LABEL_0', 'score': 0.9999845027923584},\n",
       " {'label': 'LABEL_1', 'score': 0.8948582410812378},\n",
       " {'label': 'LABEL_1', 'score': 0.9999850988388062},\n",
       " {'label': 'LABEL_1', 'score': 0.9999988079071045},\n",
       " {'label': 'LABEL_0', 'score': 0.999933123588562},\n",
       " {'label': 'LABEL_1', 'score': 0.9869606494903564},\n",
       " {'label': 'LABEL_1', 'score': 0.9973511695861816},\n",
       " {'label': 'LABEL_1', 'score': 0.9999992847442627},\n",
       " {'label': 'LABEL_0', 'score': 0.9999904632568359},\n",
       " {'label': 'LABEL_0', 'score': 0.9764384627342224},\n",
       " {'label': 'LABEL_1', 'score': 0.9999992847442627},\n",
       " {'label': 'LABEL_1', 'score': 0.9999861717224121},\n",
       " {'label': 'LABEL_0', 'score': 0.9999842643737793},\n",
       " {'label': 'LABEL_1', 'score': 0.9894049167633057},\n",
       " {'label': 'LABEL_1', 'score': 0.9999990463256836},\n",
       " {'label': 'LABEL_1', 'score': 0.9999945163726807},\n",
       " {'label': 'LABEL_0', 'score': 0.9999898672103882},\n",
       " {'label': 'LABEL_0', 'score': 0.9510175585746765},\n",
       " {'label': 'LABEL_1', 'score': 0.9999997615814209},\n",
       " {'label': 'LABEL_1', 'score': 0.999997615814209},\n",
       " {'label': 'LABEL_0', 'score': 0.9999903440475464},\n",
       " {'label': 'LABEL_1', 'score': 0.9486166834831238},\n",
       " {'label': 'LABEL_1', 'score': 0.9999995231628418},\n",
       " {'label': 'LABEL_1', 'score': 0.9999960660934448},\n",
       " {'label': 'LABEL_0', 'score': 0.9999810457229614},\n",
       " {'label': 'LABEL_0', 'score': 0.9999819993972778},\n",
       " {'label': 'LABEL_1', 'score': 0.9999990463256836},\n",
       " {'label': 'LABEL_0', 'score': 0.89966881275177},\n",
       " {'label': 'LABEL_0', 'score': 0.9999736547470093},\n",
       " {'label': 'LABEL_0', 'score': 0.9865491986274719},\n",
       " {'label': 'LABEL_1', 'score': 0.9999997615814209},\n",
       " {'label': 'LABEL_1', 'score': 0.9999990463256836},\n",
       " {'label': 'LABEL_0', 'score': 0.9999909400939941},\n",
       " {'label': 'LABEL_1', 'score': 0.9848559498786926},\n",
       " {'label': 'LABEL_1', 'score': 0.9999995231628418},\n",
       " {'label': 'LABEL_1', 'score': 0.9999542236328125},\n",
       " {'label': 'LABEL_0', 'score': 0.9999634027481079},\n",
       " {'label': 'LABEL_0', 'score': 0.9887384176254272},\n",
       " {'label': 'LABEL_1', 'score': 0.9999988079071045},\n",
       " {'label': 'LABEL_1', 'score': 0.9989421963691711},\n",
       " {'label': 'LABEL_0', 'score': 0.9999767541885376},\n",
       " {'label': 'LABEL_0', 'score': 0.9989468455314636},\n",
       " {'label': 'LABEL_1', 'score': 0.999998927116394},\n",
       " {'label': 'LABEL_1', 'score': 0.9999735355377197},\n",
       " {'label': 'LABEL_0', 'score': 0.999975323677063},\n",
       " {'label': 'LABEL_0', 'score': 0.9996084570884705},\n",
       " {'label': 'LABEL_1', 'score': 0.9996755123138428},\n",
       " {'label': 'LABEL_1', 'score': 0.9999998807907104},\n",
       " {'label': 'LABEL_0', 'score': 0.9999908208847046},\n",
       " {'label': 'LABEL_1', 'score': 0.998195469379425},\n",
       " {'label': 'LABEL_1', 'score': 0.9999994039535522},\n",
       " {'label': 'LABEL_1', 'score': 0.9999936819076538},\n",
       " {'label': 'LABEL_0', 'score': 0.9999673366546631},\n",
       " {'label': 'LABEL_1', 'score': 0.9965037107467651},\n",
       " {'label': 'LABEL_1', 'score': 0.9999985694885254},\n",
       " {'label': 'LABEL_1', 'score': 0.999998927116394},\n",
       " {'label': 'LABEL_0', 'score': 0.9999709129333496},\n",
       " {'label': 'LABEL_0', 'score': 0.9941064119338989},\n",
       " {'label': 'LABEL_0', 'score': 0.9853897094726562},\n",
       " {'label': 'LABEL_1', 'score': 0.9999996423721313},\n",
       " {'label': 'LABEL_0', 'score': 0.9999644756317139},\n",
       " {'label': 'LABEL_1', 'score': 0.9999088048934937},\n",
       " {'label': 'LABEL_0', 'score': 0.9999637603759766},\n",
       " {'label': 'LABEL_1', 'score': 0.9999996423721313},\n",
       " {'label': 'LABEL_0', 'score': 0.9999698400497437},\n",
       " {'label': 'LABEL_1', 'score': 0.9300644993782043},\n",
       " {'label': 'LABEL_1', 'score': 0.9999961853027344},\n",
       " {'label': 'LABEL_1', 'score': 0.9999538660049438},\n",
       " {'label': 'LABEL_0', 'score': 0.9999610185623169},\n",
       " {'label': 'LABEL_0', 'score': 0.9999992847442627},\n",
       " {'label': 'LABEL_1', 'score': 0.9998801946640015},\n",
       " {'label': 'LABEL_1', 'score': 0.9999992847442627},\n",
       " {'label': 'LABEL_0', 'score': 0.9999673366546631},\n",
       " {'label': 'LABEL_0', 'score': 0.999754011631012},\n",
       " {'label': 'LABEL_1', 'score': 0.9999995231628418},\n",
       " {'label': 'LABEL_1', 'score': 0.9999997615814209},\n",
       " {'label': 'LABEL_0', 'score': 0.9999568462371826},\n",
       " {'label': 'LABEL_1', 'score': 0.9602123498916626},\n",
       " {'label': 'LABEL_0', 'score': 0.9999183416366577},\n",
       " {'label': 'LABEL_1', 'score': 0.9999996423721313},\n",
       " {'label': 'LABEL_0', 'score': 0.9996204376220703},\n",
       " {'label': 'LABEL_0', 'score': 0.9999850988388062},\n",
       " {'label': 'LABEL_1', 'score': 0.9951144456863403},\n",
       " {'label': 'LABEL_1', 'score': 0.9999992847442627},\n",
       " {'label': 'LABEL_0', 'score': 0.9999319314956665},\n",
       " {'label': 'LABEL_0', 'score': 0.9992194175720215},\n",
       " {'label': 'LABEL_1', 'score': 0.9996752738952637},\n",
       " {'label': 'LABEL_1', 'score': 0.9999996423721313},\n",
       " {'label': 'LABEL_0', 'score': 0.9999723434448242},\n",
       " {'label': 'LABEL_0', 'score': 0.9177111983299255},\n",
       " {'label': 'LABEL_1', 'score': 0.9999747276306152},\n",
       " {'label': 'LABEL_1', 'score': 0.999998927116394},\n",
       " {'label': 'LABEL_0', 'score': 0.9999678134918213},\n",
       " {'label': 'LABEL_1', 'score': 0.929745078086853},\n",
       " {'label': 'LABEL_1', 'score': 0.9999983310699463},\n",
       " {'label': 'LABEL_1', 'score': 0.9999825954437256},\n",
       " {'label': 'LABEL_0', 'score': 0.9999508857727051},\n",
       " {'label': 'LABEL_1', 'score': 0.9999996423721313},\n",
       " {'label': 'LABEL_0', 'score': 0.9995949864387512},\n",
       " {'label': 'LABEL_0', 'score': 0.9325741529464722},\n",
       " {'label': 'LABEL_0', 'score': 0.9999496936798096},\n",
       " {'label': 'LABEL_1', 'score': 0.9960634112358093},\n",
       " {'label': 'LABEL_1', 'score': 0.9999998807907104},\n",
       " {'label': 'LABEL_0', 'score': 0.997847318649292},\n",
       " {'label': 'LABEL_0', 'score': 0.9999731779098511},\n",
       " {'label': 'LABEL_1', 'score': 0.9999383687973022},\n",
       " {'label': 'LABEL_1', 'score': 0.9992469549179077},\n",
       " {'label': 'LABEL_1', 'score': 0.9982503056526184},\n",
       " {'label': 'LABEL_0', 'score': 0.9999561309814453},\n",
       " {'label': 'LABEL_1', 'score': 0.9970358610153198},\n",
       " {'label': 'LABEL_1', 'score': 0.9999995231628418},\n",
       " {'label': 'LABEL_0', 'score': 0.9994044303894043},\n",
       " {'label': 'LABEL_0', 'score': 0.9999569654464722},\n",
       " {'label': 'LABEL_0', 'score': 0.9999934434890747},\n",
       " {'label': 'LABEL_0', 'score': 0.8965569138526917},\n",
       " {'label': 'LABEL_1', 'score': 0.9999996423721313},\n",
       " {'label': 'LABEL_0', 'score': 0.999967098236084},\n",
       " {'label': 'LABEL_1', 'score': 0.9999973773956299},\n",
       " {'label': 'LABEL_0', 'score': 0.9999676942825317},\n",
       " {'label': 'LABEL_1', 'score': 0.9998084902763367},\n",
       " {'label': 'LABEL_0', 'score': 0.9999827146530151},\n",
       " {'label': 'LABEL_0', 'score': 0.999270498752594},\n",
       " {'label': 'LABEL_1', 'score': 0.9998112320899963},\n",
       " {'label': 'LABEL_1', 'score': 0.9999992847442627},\n",
       " {'label': 'LABEL_0', 'score': 0.9999892711639404},\n",
       " {'label': 'LABEL_0', 'score': 0.9970587491989136},\n",
       " {'label': 'LABEL_1', 'score': 0.9999992847442627},\n",
       " {'label': 'LABEL_1', 'score': 0.9987373948097229},\n",
       " {'label': 'LABEL_0', 'score': 0.9999728202819824},\n",
       " {'label': 'LABEL_1', 'score': 0.9652015566825867},\n",
       " {'label': 'LABEL_1', 'score': 0.9999970197677612},\n",
       " {'label': 'LABEL_1', 'score': 0.9795743823051453},\n",
       " {'label': 'LABEL_0', 'score': 0.9999867677688599},\n",
       " {'label': 'LABEL_0', 'score': 0.9997484087944031},\n",
       " {'label': 'LABEL_1', 'score': 0.9999995231628418},\n",
       " {'label': 'LABEL_1', 'score': 0.9999639987945557},\n",
       " {'label': 'LABEL_0', 'score': 0.9999862909317017},\n",
       " {'label': 'LABEL_1', 'score': 0.9988999366760254},\n",
       " {'label': 'LABEL_1', 'score': 0.9999969005584717},\n",
       " {'label': 'LABEL_1', 'score': 0.9999940395355225},\n",
       " {'label': 'LABEL_0', 'score': 0.9999052286148071},\n",
       " {'label': 'LABEL_0', 'score': 0.9959831237792969},\n",
       " {'label': 'LABEL_1', 'score': 0.9999996423721313},\n",
       " {'label': 'LABEL_1', 'score': 0.999997615814209},\n",
       " {'label': 'LABEL_0', 'score': 0.9999644756317139},\n",
       " {'label': 'LABEL_0', 'score': 0.999488115310669},\n",
       " {'label': 'LABEL_1', 'score': 0.9999992847442627},\n",
       " {'label': 'LABEL_1', 'score': 0.9992532134056091},\n",
       " {'label': 'LABEL_1', 'score': 0.999996542930603},\n",
       " {'label': 'LABEL_0', 'score': 0.9999573230743408},\n",
       " {'label': 'LABEL_1', 'score': 0.9998190999031067},\n",
       " {'label': 'LABEL_0', 'score': 0.9998747110366821},\n",
       " {'label': 'LABEL_1', 'score': 0.9998530149459839},\n",
       " {'label': 'LABEL_0', 'score': 0.9999426603317261},\n",
       " {'label': 'LABEL_1', 'score': 0.9999991655349731},\n",
       " {'label': 'LABEL_0', 'score': 0.9890150427818298},\n",
       " {'label': 'LABEL_1', 'score': 0.9999996423721313},\n",
       " {'label': 'LABEL_0', 'score': 0.9999780654907227},\n",
       " {'label': 'LABEL_1', 'score': 0.6436302065849304},\n",
       " {'label': 'LABEL_1', 'score': 0.9909247159957886},\n",
       " {'label': 'LABEL_1', 'score': 0.9999995231628418},\n",
       " {'label': 'LABEL_0', 'score': 0.9999388456344604},\n",
       " {'label': 'LABEL_0', 'score': 0.8690404295921326},\n",
       " {'label': 'LABEL_1', 'score': 0.8088066577911377},\n",
       " {'label': 'LABEL_1', 'score': 0.9999978542327881},\n",
       " {'label': 'LABEL_0', 'score': 0.999974250793457},\n",
       " {'label': 'LABEL_0', 'score': 0.992091178894043},\n",
       " {'label': 'LABEL_1', 'score': 0.9999420642852783},\n",
       " {'label': 'LABEL_1', 'score': 0.9999995231628418},\n",
       " {'label': 'LABEL_0', 'score': 0.9999895095825195},\n",
       " {'label': 'LABEL_0', 'score': 0.9728250503540039},\n",
       " {'label': 'LABEL_1', 'score': 0.9999110698699951},\n",
       " {'label': 'LABEL_1', 'score': 0.9999994039535522},\n",
       " {'label': 'LABEL_0', 'score': 0.9999727010726929},\n",
       " {'label': 'LABEL_1', 'score': 0.9824678301811218},\n",
       " {'label': 'LABEL_1', 'score': 0.9958916902542114},\n",
       " {'label': 'LABEL_1', 'score': 0.9999990463256836},\n",
       " {'label': 'LABEL_0', 'score': 0.9999772310256958},\n",
       " {'label': 'LABEL_0', 'score': 0.9998793601989746},\n",
       " {'label': 'LABEL_0', 'score': 0.985723078250885},\n",
       " {'label': 'LABEL_1', 'score': 0.999817430973053},\n",
       " {'label': 'LABEL_0', 'score': 0.9999864101409912},\n",
       " {'label': 'LABEL_1', 'score': 0.9990736246109009},\n",
       " {'label': 'LABEL_1', 'score': 0.9999933242797852},\n",
       " {'label': 'LABEL_1', 'score': 0.9999992847442627},\n",
       " {'label': 'LABEL_0', 'score': 0.9999761581420898},\n",
       " {'label': 'LABEL_0', 'score': 0.9971601963043213},\n",
       " {'label': 'LABEL_1', 'score': 0.7789191007614136},\n",
       " {'label': 'LABEL_1', 'score': 0.9999995231628418},\n",
       " {'label': 'LABEL_0', 'score': 0.9999796152114868},\n",
       " {'label': 'LABEL_0', 'score': 0.9999520778656006},\n",
       " {'label': 'LABEL_1', 'score': 0.9999959468841553},\n",
       " {'label': 'LABEL_1', 'score': 0.9999997615814209},\n",
       " {'label': 'LABEL_0', 'score': 0.999990701675415},\n",
       " {'label': 'LABEL_0', 'score': 0.9973506927490234},\n",
       " {'label': 'LABEL_1', 'score': 0.9997536540031433},\n",
       " {'label': 'LABEL_1', 'score': 0.9999850988388062},\n",
       " {'label': 'LABEL_0', 'score': 0.9999642372131348},\n",
       " {'label': 'LABEL_0', 'score': 0.9951981902122498},\n",
       " {'label': 'LABEL_1', 'score': 0.9998505115509033},\n",
       " {'label': 'LABEL_1', 'score': 0.9999995231628418},\n",
       " {'label': 'LABEL_0', 'score': 0.9999825954437256},\n",
       " {'label': 'LABEL_1', 'score': 0.9140388369560242},\n",
       " {'label': 'LABEL_1', 'score': 0.9999864101409912},\n",
       " {'label': 'LABEL_1', 'score': 0.9999998807907104},\n",
       " {'label': 'LABEL_0', 'score': 0.9999704360961914},\n",
       " {'label': 'LABEL_1', 'score': 0.9922896027565002},\n",
       " {'label': 'LABEL_1', 'score': 0.9999973773956299},\n",
       " {'label': 'LABEL_1', 'score': 0.9999997615814209},\n",
       " {'label': 'LABEL_0', 'score': 0.9999549388885498},\n",
       " {'label': 'LABEL_1', 'score': 0.9966199398040771},\n",
       " {'label': 'LABEL_0', 'score': 0.999239444732666},\n",
       " {'label': 'LABEL_1', 'score': 0.9999997615814209},\n",
       " {'label': 'LABEL_0', 'score': 0.9999897480010986},\n",
       " {'label': 'LABEL_0', 'score': 0.9999889135360718},\n",
       " {'label': 'LABEL_1', 'score': 0.9999911785125732},\n",
       " {'label': 'LABEL_1', 'score': 0.9999986886978149},\n",
       " {'label': 'LABEL_0', 'score': 0.999879002571106},\n",
       " {'label': 'LABEL_0', 'score': 0.9615783095359802},\n",
       " {'label': 'LABEL_1', 'score': 0.9827566146850586},\n",
       " {'label': 'LABEL_1', 'score': 0.9999996423721313},\n",
       " {'label': 'LABEL_0', 'score': 0.999988317489624},\n",
       " {'label': 'LABEL_1', 'score': 0.9994409680366516},\n",
       " {'label': 'LABEL_1', 'score': 0.9999994039535522},\n",
       " {'label': 'LABEL_1', 'score': 0.9999997615814209},\n",
       " {'label': 'LABEL_0', 'score': 0.9999558925628662},\n",
       " {'label': 'LABEL_0', 'score': 0.9925161004066467},\n",
       " {'label': 'LABEL_0', 'score': 0.998603880405426},\n",
       " {'label': 'LABEL_1', 'score': 0.9999990463256836},\n",
       " {'label': 'LABEL_0', 'score': 0.9999606609344482},\n",
       " {'label': 'LABEL_0', 'score': 0.9999604225158691},\n",
       " {'label': 'LABEL_0', 'score': 0.9999959468841553},\n",
       " {'label': 'LABEL_1', 'score': 0.9999645948410034},\n",
       " {'label': 'LABEL_0', 'score': 0.9999879598617554},\n",
       " {'label': 'LABEL_0', 'score': 0.9974282383918762},\n",
       " {'label': 'LABEL_1', 'score': 0.9999319314956665},\n",
       " {'label': 'LABEL_1', 'score': 0.9999996423721313},\n",
       " {'label': 'LABEL_0', 'score': 0.9999904632568359},\n",
       " {'label': 'LABEL_1', 'score': 0.9996434450149536},\n",
       " {'label': 'LABEL_0', 'score': 0.992572546005249},\n",
       " {'label': 'LABEL_1', 'score': 0.9999996423721313},\n",
       " {'label': 'LABEL_0', 'score': 0.9999803304672241},\n",
       " {'label': 'LABEL_0', 'score': 0.8925825953483582},\n",
       " {'label': 'LABEL_1', 'score': 0.9976248145103455},\n",
       " {'label': 'LABEL_1', 'score': 0.9990503191947937},\n",
       " {'label': 'LABEL_0', 'score': 0.9999911785125732},\n",
       " {'label': 'LABEL_0', 'score': 0.999277651309967},\n",
       " {'label': 'LABEL_0', 'score': 0.9999076128005981},\n",
       " {'label': 'LABEL_1', 'score': 0.9999995231628418},\n",
       " {'label': 'LABEL_0', 'score': 0.9999938011169434},\n",
       " {'label': 'LABEL_1', 'score': 0.9996424913406372},\n",
       " {'label': 'LABEL_1', 'score': 0.9999951124191284},\n",
       " {'label': 'LABEL_0', 'score': 0.99986732006073},\n",
       " {'label': 'LABEL_1', 'score': 0.9999995231628418},\n",
       " {'label': 'LABEL_0', 'score': 0.9854773879051208},\n",
       " {'label': 'LABEL_1', 'score': 0.9999675750732422},\n",
       " {'label': 'LABEL_0', 'score': 0.9999428987503052},\n",
       " {'label': 'LABEL_1', 'score': 0.9999996423721313},\n",
       " {'label': 'LABEL_0', 'score': 0.9991621971130371},\n",
       " {'label': 'LABEL_1', 'score': 0.9996564388275146},\n",
       " {'label': 'LABEL_0', 'score': 0.9999717473983765},\n",
       " {'label': 'LABEL_1', 'score': 0.9999996423721313},\n",
       " {'label': 'LABEL_1', 'score': 0.9999902248382568},\n",
       " {'label': 'LABEL_0', 'score': 0.9998650550842285},\n",
       " {'label': 'LABEL_0', 'score': 0.999914288520813},\n",
       " {'label': 'LABEL_1', 'score': 0.9999996423721313},\n",
       " {'label': 'LABEL_1', 'score': 0.997547447681427},\n",
       " {'label': 'LABEL_0', 'score': 0.9783936142921448},\n",
       " {'label': 'LABEL_1', 'score': 0.9999886751174927},\n",
       " {'label': 'LABEL_0', 'score': 0.9999879598617554},\n",
       " {'label': 'LABEL_1', 'score': 0.9999994039535522},\n",
       " {'label': 'LABEL_1', 'score': 0.999702513217926},\n",
       " {'label': 'LABEL_1', 'score': 0.9999686479568481},\n",
       " {'label': 'LABEL_1', 'score': 0.9999903440475464},\n",
       " {'label': 'LABEL_0', 'score': 0.9999901056289673},\n",
       " {'label': 'LABEL_0', 'score': 0.9897937774658203},\n",
       " {'label': 'LABEL_1', 'score': 0.9999316930770874},\n",
       " {'label': 'LABEL_0', 'score': 0.9999864101409912},\n",
       " {'label': 'LABEL_1', 'score': 0.9999996423721313},\n",
       " {'label': 'LABEL_0', 'score': 0.9941129088401794},\n",
       " {'label': 'LABEL_1', 'score': 0.9999576807022095},\n",
       " {'label': 'LABEL_0', 'score': 0.9993799924850464},\n",
       " {'label': 'LABEL_1', 'score': 0.9554667472839355},\n",
       " {'label': 'LABEL_1', 'score': 0.9999997615814209},\n",
       " {'label': 'LABEL_1', 'score': 0.9971098303794861},\n",
       " {'label': 'LABEL_0', 'score': 0.9999898672103882},\n",
       " {'label': 'LABEL_1', 'score': 0.9991768002510071},\n",
       " {'label': 'LABEL_1', 'score': 0.9999996423721313},\n",
       " {'label': 'LABEL_1', 'score': 0.9999741315841675},\n",
       " {'label': 'LABEL_0', 'score': 0.9999806880950928},\n",
       " {'label': 'LABEL_1', 'score': 0.9973434805870056},\n",
       " {'label': 'LABEL_1', 'score': 0.9999997615814209},\n",
       " {'label': 'LABEL_1', 'score': 0.9999959468841553},\n",
       " {'label': 'LABEL_0', 'score': 0.999980092048645},\n",
       " {'label': 'LABEL_1', 'score': 0.8977980017662048},\n",
       " {'label': 'LABEL_1', 'score': 0.9999984502792358},\n",
       " {'label': 'LABEL_0', 'score': 0.9990715980529785},\n",
       " {'label': 'LABEL_0', 'score': 0.9999752044677734},\n",
       " {'label': 'LABEL_0', 'score': 0.9641845226287842},\n",
       " {'label': 'LABEL_1', 'score': 0.9999996423721313},\n",
       " {'label': 'LABEL_1', 'score': 0.9999656677246094},\n",
       " {'label': 'LABEL_0', 'score': 0.9999524354934692},\n",
       " {'label': 'LABEL_0', 'score': 0.9963633418083191},\n",
       " {'label': 'LABEL_1', 'score': 0.9999829530715942},\n",
       " {'label': 'LABEL_1', 'score': 0.9964883327484131},\n",
       " {'label': 'LABEL_0', 'score': 0.9999785423278809},\n",
       " {'label': 'LABEL_0', 'score': 0.9986419081687927},\n",
       " {'label': 'LABEL_1', 'score': 0.9999996423721313},\n",
       " {'label': 'LABEL_1', 'score': 0.9999986886978149},\n",
       " {'label': 'LABEL_0', 'score': 0.9999511241912842},\n",
       " {'label': 'LABEL_1', 'score': 0.9999990463256836},\n",
       " {'label': 'LABEL_0', 'score': 0.9290714263916016},\n",
       " {'label': 'LABEL_1', 'score': 0.9966970682144165},\n",
       " {'label': 'LABEL_0', 'score': 0.9999908208847046},\n",
       " {'label': 'LABEL_0', 'score': 0.9724001288414001},\n",
       " {'label': 'LABEL_1', 'score': 0.9999995231628418},\n",
       " {'label': 'LABEL_0', 'score': 0.9616124629974365},\n",
       " {'label': 'LABEL_0', 'score': 0.9999854564666748},\n",
       " {'label': 'LABEL_1', 'score': 0.9895995855331421},\n",
       " {'label': 'LABEL_1', 'score': 0.9999985694885254},\n",
       " {'label': 'LABEL_1', 'score': 0.9999873638153076},\n",
       " {'label': 'LABEL_0', 'score': 0.9999810457229614},\n",
       " {'label': 'LABEL_1', 'score': 0.9999909400939941},\n",
       " {'label': 'LABEL_0', 'score': 0.9999525547027588},\n",
       " {'label': 'LABEL_1', 'score': 0.9999996423721313},\n",
       " {'label': 'LABEL_1', 'score': 0.9999797344207764},\n",
       " {'label': 'LABEL_0', 'score': 0.999976396560669},\n",
       " {'label': 'LABEL_0', 'score': 0.9864670634269714},\n",
       " {'label': 'LABEL_1', 'score': 0.9999969005584717},\n",
       " {'label': 'LABEL_0', 'score': 0.999936580657959},\n",
       " {'label': 'LABEL_0', 'score': 0.9999884366989136},\n",
       " {'label': 'LABEL_1', 'score': 0.9865488409996033},\n",
       " {'label': 'LABEL_1', 'score': 0.9999990463256836},\n",
       " {'label': 'LABEL_1', 'score': 0.9999927282333374},\n",
       " {'label': 'LABEL_0', 'score': 0.9999754428863525},\n",
       " {'label': 'LABEL_1', 'score': 0.9794068336486816},\n",
       " {'label': 'LABEL_1', 'score': 0.9999994039535522},\n",
       " {'label': 'LABEL_1', 'score': 0.9989232420921326},\n",
       " {'label': 'LABEL_0', 'score': 0.9999195337295532},\n",
       " {'label': 'LABEL_0', 'score': 0.9791809320449829},\n",
       " {'label': 'LABEL_1', 'score': 0.9999995231628418},\n",
       " {'label': 'LABEL_1', 'score': 0.999991774559021},\n",
       " {'label': 'LABEL_0', 'score': 0.9999639987945557},\n",
       " {'label': 'LABEL_1', 'score': 0.9999997615814209},\n",
       " {'label': 'LABEL_1', 'score': 0.9786968231201172},\n",
       " {'label': 'LABEL_0', 'score': 0.9999725818634033},\n",
       " {'label': 'LABEL_1', 'score': 0.9998555183410645},\n",
       " {'label': 'LABEL_1', 'score': 0.9999617338180542},\n",
       " {'label': 'LABEL_1', 'score': 0.9999966621398926},\n",
       " {'label': 'LABEL_0', 'score': 0.999983549118042},\n",
       " {'label': 'LABEL_0', 'score': 0.9995529055595398},\n",
       " {'label': 'LABEL_1', 'score': 0.9999996423721313},\n",
       " {'label': 'LABEL_1', 'score': 0.9999957084655762},\n",
       " {'label': 'LABEL_0', 'score': 0.9999876022338867},\n",
       " {'label': 'LABEL_0', 'score': 0.9974710941314697},\n",
       " {'label': 'LABEL_0', 'score': 0.9997037053108215},\n",
       " {'label': 'LABEL_1', 'score': 0.9999994039535522},\n",
       " {'label': 'LABEL_0', 'score': 0.9999333620071411},\n",
       " {'label': 'LABEL_0', 'score': 0.9991135001182556},\n",
       " {'label': 'LABEL_1', 'score': 0.9999971389770508},\n",
       " {'label': 'LABEL_0', 'score': 0.9998908042907715},\n",
       " {'label': 'LABEL_0', 'score': 0.9999032020568848},\n",
       " {'label': 'LABEL_1', 'score': 0.9999995231628418},\n",
       " {'label': 'LABEL_1', 'score': 0.9999982118606567},\n",
       " {'label': 'LABEL_0', 'score': 0.9999897480010986},\n",
       " {'label': 'LABEL_1', 'score': 0.9999995231628418},\n",
       " {'label': 'LABEL_0', 'score': 0.9999847412109375},\n",
       " {'label': 'LABEL_1', 'score': 0.9999971389770508},\n",
       " {'label': 'LABEL_0', 'score': 0.9956977367401123},\n",
       " {'label': 'LABEL_0', 'score': 0.9999452829360962},\n",
       " {'label': 'LABEL_1', 'score': 0.9999990463256836},\n",
       " {'label': 'LABEL_1', 'score': 0.9999315738677979},\n",
       " {'label': 'LABEL_0', 'score': 0.9417828917503357},\n",
       " {'label': 'LABEL_0', 'score': 0.9999946355819702},\n",
       " {'label': 'LABEL_1', 'score': 0.9999988079071045},\n",
       " {'label': 'LABEL_0', 'score': 0.9551888704299927},\n",
       " {'label': 'LABEL_0', 'score': 0.7883377075195312},\n",
       " {'label': 'LABEL_0', 'score': 0.9999889135360718},\n",
       " {'label': 'LABEL_1', 'score': 0.9999997615814209},\n",
       " {'label': 'LABEL_1', 'score': 0.999440610408783},\n",
       " {'label': 'LABEL_1', 'score': 0.9737508893013},\n",
       " {'label': 'LABEL_1', 'score': 0.9999996423721313},\n",
       " {'label': 'LABEL_0', 'score': 0.9999841451644897},\n",
       " {'label': 'LABEL_1', 'score': 0.9998058676719666},\n",
       " {'label': 'LABEL_0', 'score': 0.9944309592247009},\n",
       " {'label': 'LABEL_1', 'score': 0.9999990463256836},\n",
       " {'label': 'LABEL_0', 'score': 0.9999791383743286},\n",
       " {'label': 'LABEL_0', 'score': 0.9999276399612427},\n",
       " {'label': 'LABEL_1', 'score': 0.9336759448051453},\n",
       " {'label': 'LABEL_1', 'score': 0.9999995231628418},\n",
       " {'label': 'LABEL_0', 'score': 0.9999897480010986},\n",
       " {'label': 'LABEL_1', 'score': 0.9999943971633911},\n",
       " {'label': 'LABEL_1', 'score': 0.9914965629577637},\n",
       " {'label': 'LABEL_1', 'score': 0.9999997615814209},\n",
       " {'label': 'LABEL_0', 'score': 0.9999927282333374},\n",
       " {'label': 'LABEL_1', 'score': 0.9999986886978149},\n",
       " {'label': 'LABEL_1', 'score': 0.9996800422668457},\n",
       " {'label': 'LABEL_1', 'score': 0.9999995231628418},\n",
       " {'label': 'LABEL_0', 'score': 0.999985933303833},\n",
       " {'label': 'LABEL_1', 'score': 0.9997860789299011},\n",
       " {'label': 'LABEL_1', 'score': 0.9768422245979309},\n",
       " {'label': 'LABEL_1', 'score': 0.9999991655349731},\n",
       " {'label': 'LABEL_0', 'score': 0.9999858140945435},\n",
       " {'label': 'LABEL_1', 'score': 0.9999979734420776},\n",
       " {'label': 'LABEL_1', 'score': 0.9955000281333923},\n",
       " {'label': 'LABEL_0', 'score': 0.9999599456787109},\n",
       " {'label': 'LABEL_1', 'score': 0.9999048709869385},\n",
       " {'label': 'LABEL_1', 'score': 0.9998774528503418},\n",
       " {'label': 'LABEL_0', 'score': 0.9999649524688721},\n",
       " {'label': 'LABEL_0', 'score': 0.9887732863426208},\n",
       " {'label': 'LABEL_1', 'score': 0.9999998807907104},\n",
       " {'label': 'LABEL_1', 'score': 0.9999992847442627},\n",
       " {'label': 'LABEL_0', 'score': 0.9999769926071167},\n",
       " {'label': 'LABEL_1', 'score': 0.9999988079071045},\n",
       " {'label': 'LABEL_0', 'score': 0.9951127171516418},\n",
       " {'label': 'LABEL_1', 'score': 0.9999996423721313},\n",
       " {'label': 'LABEL_0', 'score': 0.9999350309371948},\n",
       " {'label': 'LABEL_1', 'score': 0.9999996423721313},\n",
       " {'label': 'LABEL_0', 'score': 0.9764721989631653},\n",
       " {'label': 'LABEL_0', 'score': 0.9999850988388062},\n",
       " {'label': 'LABEL_1', 'score': 0.9999957084655762},\n",
       " {'label': 'LABEL_1', 'score': 0.999982476234436},\n",
       " {'label': 'LABEL_0', 'score': 0.9985268115997314},\n",
       " {'label': 'LABEL_0', 'score': 0.9999517202377319},\n",
       " {'label': 'LABEL_1', 'score': 0.9999994039535522},\n",
       " {'label': 'LABEL_1', 'score': 0.9999457597732544},\n",
       " {'label': 'LABEL_0', 'score': 0.9814105033874512},\n",
       " {'label': 'LABEL_0', 'score': 0.9999772310256958},\n",
       " {'label': 'LABEL_1', 'score': 0.9999995231628418},\n",
       " {'label': 'LABEL_1', 'score': 0.9996142387390137},\n",
       " {'label': 'LABEL_1', 'score': 0.9888306260108948},\n",
       " {'label': 'LABEL_0', 'score': 0.999950647354126},\n",
       " {'label': 'LABEL_1', 'score': 0.9999958276748657},\n",
       " {'label': 'LABEL_1', 'score': 0.999992847442627},\n",
       " {'label': 'LABEL_1', 'score': 0.9999433755874634},\n",
       " {'label': 'LABEL_1', 'score': 0.9934644103050232},\n",
       " {'label': 'LABEL_0', 'score': 0.9998902082443237},\n",
       " {'label': 'LABEL_1', 'score': 0.9999246597290039},\n",
       " {'label': 'LABEL_1', 'score': 0.9999990463256836},\n",
       " {'label': 'LABEL_0', 'score': 0.9991037249565125},\n",
       " {'label': 'LABEL_0', 'score': 0.999968409538269},\n",
       " {'label': 'LABEL_1', 'score': 0.9999901056289673},\n",
       " {'label': 'LABEL_1', 'score': 0.9999998807907104},\n",
       " {'label': 'LABEL_1', 'score': 0.9999945163726807},\n",
       " {'label': 'LABEL_0', 'score': 0.9998437166213989},\n",
       " {'label': 'LABEL_0', 'score': 0.9983373880386353},\n",
       " {'label': 'LABEL_1', 'score': 0.999997615814209},\n",
       " {'label': 'LABEL_1', 'score': 0.9999794960021973},\n",
       " {'label': 'LABEL_1', 'score': 0.9990361928939819},\n",
       " {'label': 'LABEL_0', 'score': 0.9999897480010986},\n",
       " {'label': 'LABEL_1', 'score': 0.999993085861206},\n",
       " {'label': 'LABEL_1', 'score': 0.9599121809005737},\n",
       " {'label': 'LABEL_1', 'score': 0.9994609951972961},\n",
       " {'label': 'LABEL_1', 'score': 0.9999961853027344},\n",
       " {'label': 'LABEL_0', 'score': 0.9999840259552002},\n",
       " {'label': 'LABEL_1', 'score': 0.9637311697006226},\n",
       " {'label': 'LABEL_1', 'score': 0.803046703338623},\n",
       " {'label': 'LABEL_1', 'score': 0.9999995231628418},\n",
       " {'label': 'LABEL_0', 'score': 0.9999713897705078},\n",
       " {'label': 'LABEL_1', 'score': 0.9957846999168396},\n",
       " {'label': 'LABEL_1', 'score': 0.9789556264877319},\n",
       " {'label': 'LABEL_1', 'score': 0.9999988079071045},\n",
       " {'label': 'LABEL_0', 'score': 0.9999746084213257},\n",
       " {'label': 'LABEL_0', 'score': 0.9999104738235474},\n",
       " {'label': 'LABEL_1', 'score': 0.9943370223045349},\n",
       " {'label': 'LABEL_1', 'score': 0.9999992847442627},\n",
       " {'label': 'LABEL_0', 'score': 0.9999014139175415},\n",
       " {'label': 'LABEL_1', 'score': 0.9982455968856812},\n",
       " {'label': 'LABEL_0', 'score': 0.9999551773071289},\n",
       " {'label': 'LABEL_0', 'score': 0.9999125003814697},\n",
       " {'label': 'LABEL_1', 'score': 0.9999994039535522},\n",
       " {'label': 'LABEL_1', 'score': 0.999955415725708},\n",
       " {'label': 'LABEL_1', 'score': 0.9888808727264404},\n",
       " {'label': 'LABEL_1', 'score': 0.9999880790710449},\n",
       " {'label': 'LABEL_0', 'score': 0.9999780654907227},\n",
       " {'label': 'LABEL_1', 'score': 0.9999978542327881},\n",
       " {'label': 'LABEL_0', 'score': 0.9936376214027405},\n",
       " {'label': 'LABEL_0', 'score': 0.999890923500061},\n",
       " {'label': 'LABEL_1', 'score': 0.9999992847442627},\n",
       " {'label': 'LABEL_1', 'score': 0.9999940395355225},\n",
       " {'label': 'LABEL_1', 'score': 0.9996299743652344},\n",
       " {'label': 'LABEL_0', 'score': 0.9998431205749512},\n",
       " {'label': 'LABEL_1', 'score': 0.9999996423721313},\n",
       " {'label': 'LABEL_1', 'score': 0.9999943971633911},\n",
       " {'label': 'LABEL_1', 'score': 0.9992119073867798},\n",
       " {'label': 'LABEL_0', 'score': 0.9999308586120605},\n",
       " {'label': 'LABEL_1', 'score': 0.9999884366989136},\n",
       " {'label': 'LABEL_1', 'score': 0.9999635219573975},\n",
       " {'label': 'LABEL_1', 'score': 0.9999948740005493},\n",
       " {'label': 'LABEL_0', 'score': 0.9999679327011108},\n",
       " {'label': 'LABEL_1', 'score': 0.9999997615814209},\n",
       " {'label': 'LABEL_1', 'score': 0.9970105886459351},\n",
       " {'label': 'LABEL_1', 'score': 0.9999535083770752},\n",
       " {'label': 'LABEL_0', 'score': 0.9999927282333374},\n",
       " {'label': 'LABEL_1', 'score': 0.9999996423721313},\n",
       " {'label': 'LABEL_1', 'score': 0.9999548196792603},\n",
       " {'label': 'LABEL_0', 'score': 0.9730123281478882},\n",
       " {'label': 'LABEL_0', 'score': 0.9999802112579346},\n",
       " {'label': 'LABEL_1', 'score': 0.9999945163726807},\n",
       " {'label': 'LABEL_1', 'score': 0.9999186992645264},\n",
       " {'label': 'LABEL_0', 'score': 0.9922229647636414},\n",
       " {'label': 'LABEL_0', 'score': 0.9998832941055298},\n",
       " {'label': 'LABEL_1', 'score': 0.9999992847442627},\n",
       " {'label': 'LABEL_1', 'score': 0.9999960660934448},\n",
       " {'label': 'LABEL_1', 'score': 0.994671642780304},\n",
       " {'label': 'LABEL_0', 'score': 0.9999817609786987},\n",
       " {'label': 'LABEL_1', 'score': 0.9999996423721313},\n",
       " {'label': 'LABEL_1', 'score': 0.999998927116394},\n",
       " {'label': 'LABEL_0', 'score': 0.9786965847015381},\n",
       " {'label': 'LABEL_0', 'score': 0.9999599456787109},\n",
       " {'label': 'LABEL_1', 'score': 0.9999992847442627},\n",
       " {'label': 'LABEL_1', 'score': 0.9999719858169556},\n",
       " {'label': 'LABEL_0', 'score': 0.9999617338180542},\n",
       " {'label': 'LABEL_0', 'score': 0.9999016523361206},\n",
       " {'label': 'LABEL_1', 'score': 0.9998911619186401},\n",
       " {'label': 'LABEL_0', 'score': 0.981421709060669},\n",
       " {'label': 'LABEL_1', 'score': 0.954408586025238},\n",
       " {'label': 'LABEL_0', 'score': 0.9999724626541138},\n",
       " {'label': 'LABEL_1', 'score': 0.9999995231628418},\n",
       " {'label': 'LABEL_1', 'score': 0.9928104281425476},\n",
       " {'label': 'LABEL_0', 'score': 0.999987006187439},\n",
       " {'label': 'LABEL_0', 'score': 0.999984860420227},\n",
       " {'label': 'LABEL_1', 'score': 0.9999994039535522},\n",
       " {'label': 'LABEL_1', 'score': 0.9999991655349731},\n",
       " {'label': 'LABEL_0', 'score': 0.9999985694885254},\n",
       " {'label': 'LABEL_1', 'score': 0.9999613761901855},\n",
       " {'label': 'LABEL_0', 'score': 0.999984622001648},\n",
       " {'label': 'LABEL_1', 'score': 0.9999979734420776},\n",
       " {'label': 'LABEL_0', 'score': 0.9996525049209595},\n",
       " {'label': 'LABEL_0', 'score': 0.999992847442627},\n",
       " {'label': 'LABEL_1', 'score': 0.9999994039535522},\n",
       " {'label': 'LABEL_0', 'score': 0.9999954700469971},\n",
       " {'label': 'LABEL_0', 'score': 0.9975748658180237},\n",
       " {'label': 'LABEL_0', 'score': 0.9999638795852661},\n",
       " {'label': 'LABEL_1', 'score': 0.9999992847442627},\n",
       " {'label': 'LABEL_1', 'score': 0.9999982118606567},\n",
       " {'label': 'LABEL_0', 'score': 0.9957603812217712},\n",
       " {'label': 'LABEL_1', 'score': 0.9999994039535522},\n",
       " {'label': 'LABEL_0', 'score': 0.9999957084655762},\n",
       " {'label': 'LABEL_0', 'score': 0.9990455508232117},\n",
       " {'label': 'LABEL_0', 'score': 0.999657154083252},\n",
       " {'label': 'LABEL_1', 'score': 0.9999997615814209},\n",
       " {'label': 'LABEL_0', 'score': 0.999984860420227},\n",
       " {'label': 'LABEL_1', 'score': 0.9999996423721313},\n",
       " {'label': 'LABEL_0', 'score': 0.9790786504745483},\n",
       " {'label': 'LABEL_1', 'score': 0.9999942779541016},\n",
       " {'label': 'LABEL_0', 'score': 0.9999858140945435},\n",
       " {'label': 'LABEL_1', 'score': 0.9994547963142395},\n",
       " {'label': 'LABEL_0', 'score': 0.9999732971191406},\n",
       " {'label': 'LABEL_0', 'score': 0.9997311234474182},\n",
       " {'label': 'LABEL_1', 'score': 0.9999997615814209},\n",
       " {'label': 'LABEL_1', 'score': 0.9999983310699463},\n",
       " {'label': 'LABEL_0', 'score': 0.9818354845046997},\n",
       " {'label': 'LABEL_0', 'score': 0.9999370574951172},\n",
       " {'label': 'LABEL_1', 'score': 0.9999988079071045},\n",
       " {'label': 'LABEL_1', 'score': 0.9994413256645203},\n",
       " {'label': 'LABEL_0', 'score': 0.9426426291465759},\n",
       " {'label': 'LABEL_0', 'score': 0.9999406337738037},\n",
       " {'label': 'LABEL_1', 'score': 0.9999984502792358},\n",
       " {'label': 'LABEL_1', 'score': 0.991524875164032},\n",
       " {'label': 'LABEL_1', 'score': 0.8415567874908447},\n",
       " {'label': 'LABEL_0', 'score': 0.9999749660491943},\n",
       " {'label': 'LABEL_1', 'score': 0.9999997615814209},\n",
       " {'label': 'LABEL_1', 'score': 0.9982596039772034},\n",
       " {'label': 'LABEL_0', 'score': 0.996405839920044},\n",
       " {'label': 'LABEL_0', 'score': 0.9999339580535889},\n",
       " {'label': 'LABEL_1', 'score': 0.9986376166343689},\n",
       " {'label': 'LABEL_1', 'score': 0.9999977350234985},\n",
       " {'label': 'LABEL_1', 'score': 0.6628344058990479},\n",
       " {'label': 'LABEL_1', 'score': 0.9999994039535522},\n",
       " {'label': 'LABEL_0', 'score': 0.9999070167541504},\n",
       " {'label': 'LABEL_1', 'score': 0.9999611377716064},\n",
       " {'label': 'LABEL_0', 'score': 0.9884351491928101},\n",
       " {'label': 'LABEL_1', 'score': 0.9999996423721313},\n",
       " {'label': 'LABEL_0', 'score': 0.9999445676803589},\n",
       " {'label': 'LABEL_0', 'score': 0.9994449019432068},\n",
       " {'label': 'LABEL_0', 'score': 0.9999856948852539},\n",
       " {'label': 'LABEL_0', 'score': 0.9036777019500732},\n",
       " {'label': 'LABEL_1', 'score': 0.9999991655349731},\n",
       " {'label': 'LABEL_1', 'score': 0.9870641231536865},\n",
       " {'label': 'LABEL_0', 'score': 0.9999700784683228},\n",
       " {'label': 'LABEL_1', 'score': 0.9999719858169556},\n",
       " {'label': 'LABEL_1', 'score': 0.9999978542327881},\n",
       " {'label': 'LABEL_0', 'score': 0.9995866417884827},\n",
       " {'label': 'LABEL_0', 'score': 0.9999611377716064},\n",
       " {'label': 'LABEL_1', 'score': 0.999998927116394},\n",
       " {'label': 'LABEL_1', 'score': 0.9913679957389832},\n",
       " {'label': 'LABEL_0', 'score': 0.9782991409301758},\n",
       " {'label': 'LABEL_0', 'score': 0.9999403953552246},\n",
       " {'label': 'LABEL_1', 'score': 0.9999996423721313},\n",
       " {'label': 'LABEL_0', 'score': 0.879851222038269},\n",
       " {'label': 'LABEL_0', 'score': 0.9998210072517395},\n",
       " {'label': 'LABEL_1', 'score': 0.9993960857391357},\n",
       " {'label': 'LABEL_0', 'score': 0.9999725818634033},\n",
       " {'label': 'LABEL_1', 'score': 0.9999992847442627},\n",
       " {'label': 'LABEL_1', 'score': 0.9499045610427856},\n",
       " {'label': 'LABEL_1', 'score': 0.999988317489624},\n",
       " {'label': 'LABEL_1', 'score': 0.9999998807907104},\n",
       " {'label': 'LABEL_0', 'score': 0.9999285936355591},\n",
       " {'label': 'LABEL_1', 'score': 0.9999661445617676},\n",
       " {'label': 'LABEL_1', 'score': 0.9999934434890747},\n",
       " {'label': 'LABEL_1', 'score': 0.9999995231628418},\n",
       " {'label': 'LABEL_0', 'score': 0.9999911785125732},\n",
       " {'label': 'LABEL_0', 'score': 0.9999608993530273},\n",
       " {'label': 'LABEL_1', 'score': 0.956407368183136},\n",
       " {'label': 'LABEL_1', 'score': 0.9999997615814209},\n",
       " {'label': 'LABEL_0', 'score': 0.9998476505279541},\n",
       " {'label': 'LABEL_1', 'score': 0.9956886172294617},\n",
       " {'label': 'LABEL_0', 'score': 0.9998520612716675},\n",
       " {'label': 'LABEL_0', 'score': 0.9998006224632263},\n",
       " {'label': 'LABEL_1', 'score': 0.9999994039535522},\n",
       " {'label': 'LABEL_1', 'score': 0.9999960660934448},\n",
       " {'label': 'LABEL_0', 'score': 0.9999804496765137},\n",
       " {'label': 'LABEL_0', 'score': 0.9999825954437256},\n",
       " {'label': 'LABEL_1', 'score': 0.9999995231628418},\n",
       " {'label': 'LABEL_0', 'score': 0.9995269775390625},\n",
       " {'label': 'LABEL_0', 'score': 0.9998764991760254},\n",
       " {'label': 'LABEL_0', 'score': 0.9999884366989136},\n",
       " {'label': 'LABEL_1', 'score': 0.9999996423721313},\n",
       " {'label': 'LABEL_1', 'score': 0.9994680285453796},\n",
       " {'label': 'LABEL_0', 'score': 0.9999579191207886},\n",
       " {'label': 'LABEL_0', 'score': 0.9973863959312439},\n",
       " {'label': 'LABEL_1', 'score': 0.9999995231628418},\n",
       " {'label': 'LABEL_1', 'score': 0.9742859601974487},\n",
       " {'label': 'LABEL_0', 'score': 0.999993085861206},\n",
       " {'label': 'LABEL_1', 'score': 0.9907754063606262},\n",
       " {'label': 'LABEL_1', 'score': 0.9999825954437256},\n",
       " {'label': 'LABEL_1', 'score': 0.9999958276748657},\n",
       " {'label': 'LABEL_1', 'score': 0.9997814297676086},\n",
       " {'label': 'LABEL_0', 'score': 0.9999874830245972},\n",
       " {'label': 'LABEL_1', 'score': 0.9999985694885254},\n",
       " {'label': 'LABEL_1', 'score': 0.9999984502792358},\n",
       " {'label': 'LABEL_0', 'score': 0.9943333864212036},\n",
       " {'label': 'LABEL_1', 'score': 0.9999988079071045},\n",
       " {'label': 'LABEL_0', 'score': 0.9999778270721436},\n",
       " {'label': 'LABEL_0', 'score': 0.9999468326568604},\n",
       " {'label': 'LABEL_0', 'score': 0.9983823299407959},\n",
       " {'label': 'LABEL_1', 'score': 0.9999990463256836},\n",
       " {'label': 'LABEL_0', 'score': 0.9999762773513794},\n",
       " {'label': 'LABEL_1', 'score': 0.9997217059135437},\n",
       " {'label': 'LABEL_1', 'score': 0.9815389513969421},\n",
       " {'label': 'LABEL_1', 'score': 0.9999996423721313},\n",
       " {'label': 'LABEL_0', 'score': 0.9999861717224121},\n",
       " {'label': 'LABEL_1', 'score': 0.9944559931755066},\n",
       " {'label': 'LABEL_0', 'score': 0.9986696243286133},\n",
       " {'label': 'LABEL_1', 'score': 0.9999991655349731},\n",
       " {'label': 'LABEL_0', 'score': 0.9999889135360718},\n",
       " {'label': 'LABEL_1', 'score': 0.9998868703842163},\n",
       " {'label': 'LABEL_0', 'score': 0.9973576664924622},\n",
       " {'label': 'LABEL_0', 'score': 0.9999451637268066},\n",
       " {'label': 'LABEL_1', 'score': 0.9999995231628418},\n",
       " {'label': 'LABEL_1', 'score': 0.9998843669891357},\n",
       " {'label': 'LABEL_1', 'score': 0.9999994039535522},\n",
       " {'label': 'LABEL_1', 'score': 0.997365415096283},\n",
       " {'label': 'LABEL_0', 'score': 0.9999736547470093},\n",
       " {'label': 'LABEL_0', 'score': 0.9563296437263489},\n",
       " {'label': 'LABEL_1', 'score': 0.9999349117279053},\n",
       " {'label': 'LABEL_0', 'score': 0.9999830722808838},\n",
       " {'label': 'LABEL_1', 'score': 0.9997827410697937},\n",
       " {'label': 'LABEL_0', 'score': 0.9955110549926758},\n",
       " {'label': 'LABEL_0', 'score': 0.9999451637268066},\n",
       " {'label': 'LABEL_1', 'score': 0.9999393224716187},\n",
       " {'label': 'LABEL_1', 'score': 0.999995231628418},\n",
       " {'label': 'LABEL_0', 'score': 0.9999251365661621},\n",
       " {'label': 'LABEL_0', 'score': 0.7573642134666443},\n",
       " {'label': 'LABEL_1', 'score': 0.9999853372573853},\n",
       " {'label': 'LABEL_1', 'score': 0.9999992847442627},\n",
       " {'label': 'LABEL_0', 'score': 0.9999834299087524},\n",
       " {'label': 'LABEL_1', 'score': 0.999882698059082},\n",
       " {'label': 'LABEL_1', 'score': 0.9999982118606567},\n",
       " {'label': 'LABEL_1', 'score': 0.9822068214416504},\n",
       " {'label': 'LABEL_0', 'score': 0.9999377727508545},\n",
       " {'label': 'LABEL_1', 'score': 0.9998624324798584},\n",
       " {'label': 'LABEL_1', 'score': 0.9999747276306152},\n",
       " {'label': 'LABEL_1', 'score': 0.9999997615814209},\n",
       " {'label': 'LABEL_0', 'score': 0.9999920129776001},\n",
       " {'label': 'LABEL_1', 'score': 0.9999991655349731},\n",
       " {'label': 'LABEL_1', 'score': 0.9999961853027344},\n",
       " {'label': 'LABEL_1', 'score': 0.9995087385177612},\n",
       " {'label': 'LABEL_0', 'score': 0.9999839067459106},\n",
       " {'label': 'LABEL_1', 'score': 0.9952132701873779},\n",
       " {'label': 'LABEL_0', 'score': 0.9996728897094727},\n",
       " {'label': 'LABEL_1', 'score': 0.9999922513961792},\n",
       " {'label': 'LABEL_0', 'score': 0.9999328851699829},\n",
       " {'label': 'LABEL_1', 'score': 0.9999934434890747},\n",
       " {'label': 'LABEL_1', 'score': 0.9999996423721313},\n",
       " {'label': 'LABEL_0', 'score': 0.9971051812171936},\n",
       " {'label': 'LABEL_0', 'score': 0.9999306201934814},\n",
       " {'label': 'LABEL_1', 'score': 0.9996054768562317},\n",
       " {'label': 'LABEL_1', 'score': 0.9916656613349915},\n",
       " {'label': 'LABEL_1', 'score': 0.9999992847442627},\n",
       " {'label': 'LABEL_0', 'score': 0.9999397993087769},\n",
       " {'label': 'LABEL_1', 'score': 0.99998939037323},\n",
       " {'label': 'LABEL_1', 'score': 0.9999995231628418},\n",
       " {'label': 'LABEL_0', 'score': 0.9996151924133301},\n",
       " {'label': 'LABEL_0', 'score': 0.9999561309814453},\n",
       " {'label': 'LABEL_0', 'score': 0.9991382360458374},\n",
       " {'label': 'LABEL_1', 'score': 0.9999997615814209},\n",
       " {'label': 'LABEL_0', 'score': 0.8806856870651245},\n",
       " {'label': 'LABEL_0', 'score': 0.9998738765716553},\n",
       " {'label': 'LABEL_1', 'score': 0.9999985694885254},\n",
       " {'label': 'LABEL_1', 'score': 0.9628608226776123},\n",
       " {'label': 'LABEL_1', 'score': 0.9999992847442627},\n",
       " {'label': 'LABEL_0', 'score': 0.9999836683273315},\n",
       " {'label': 'LABEL_0', 'score': 0.9308562874794006},\n",
       " {'label': 'LABEL_1', 'score': 0.9999988079071045},\n",
       " {'label': 'LABEL_1', 'score': 0.9998083710670471},\n",
       " {'label': 'LABEL_0', 'score': 0.9999538660049438},\n",
       " {'label': 'LABEL_0', 'score': 0.9992883801460266},\n",
       " {'label': 'LABEL_1', 'score': 0.9999494552612305},\n",
       " {'label': 'LABEL_0', 'score': 0.9645431041717529},\n",
       " {'label': 'LABEL_0', 'score': 0.9999651908874512},\n",
       " {'label': 'LABEL_1', 'score': 0.9999971389770508},\n",
       " {'label': 'LABEL_0', 'score': 0.9999668598175049},\n",
       " {'label': 'LABEL_1', 'score': 0.9999988079071045},\n",
       " {'label': 'LABEL_0', 'score': 0.9999862909317017},\n",
       " {'label': 'LABEL_1', 'score': 0.9999929666519165},\n",
       " {'label': 'LABEL_0', 'score': 0.98870849609375},\n",
       " {'label': 'LABEL_1', 'score': 0.9999973773956299},\n",
       " {'label': 'LABEL_0', 'score': 0.9999464750289917},\n",
       " {'label': 'LABEL_1', 'score': 0.9976142644882202},\n",
       " {'label': 'LABEL_1', 'score': 0.9999983310699463},\n",
       " {'label': 'LABEL_0', 'score': 0.9923682808876038},\n",
       " {'label': 'LABEL_0', 'score': 0.9999328851699829},\n",
       " {'label': 'LABEL_1', 'score': 0.9998815059661865},\n",
       " {'label': 'LABEL_0', 'score': 0.9999357461929321},\n",
       " {'label': 'LABEL_1', 'score': 0.9999992847442627},\n",
       " {'label': 'LABEL_0', 'score': 0.9999209642410278},\n",
       " {'label': 'LABEL_0', 'score': 0.9782906174659729},\n",
       " {'label': 'LABEL_1', 'score': 0.9999992847442627},\n",
       " {'label': 'LABEL_0', 'score': 0.9997016787528992},\n",
       " {'label': 'LABEL_0', 'score': 0.9999877214431763},\n",
       " {'label': 'LABEL_1', 'score': 0.9999427795410156},\n",
       " {'label': 'LABEL_1', 'score': 0.9920390844345093},\n",
       " {'label': 'LABEL_1', 'score': 0.9999988079071045},\n",
       " {'label': 'LABEL_0', 'score': 0.9999902248382568},\n",
       " {'label': 'LABEL_1', 'score': 0.9999985694885254},\n",
       " {'label': 'LABEL_1', 'score': 0.925889790058136},\n",
       " {'label': 'LABEL_1', 'score': 0.9999951124191284},\n",
       " {'label': 'LABEL_0', 'score': 0.9999727010726929},\n",
       " {'label': 'LABEL_1', 'score': 0.9931729435920715},\n",
       " {'label': 'LABEL_1', 'score': 0.9998503923416138},\n",
       " {'label': 'LABEL_1', 'score': 0.9999988079071045},\n",
       " {'label': 'LABEL_0', 'score': 0.9999682903289795},\n",
       " {'label': 'LABEL_0', 'score': 0.999738872051239},\n",
       " {'label': 'LABEL_1', 'score': 0.9999997615814209},\n",
       " {'label': 'LABEL_0', 'score': 0.8655145168304443},\n",
       " {'label': 'LABEL_0', 'score': 0.999994158744812},\n",
       " {'label': 'LABEL_1', 'score': 0.7246242761611938},\n",
       " {'label': 'LABEL_1', 'score': 0.9999977350234985},\n",
       " {'label': 'LABEL_1', 'score': 0.9999977350234985},\n",
       " {'label': 'LABEL_0', 'score': 0.9999693632125854},\n",
       " {'label': 'LABEL_1', 'score': 0.999998927116394},\n",
       " {'label': 'LABEL_1', 'score': 0.9982627034187317},\n",
       " {'label': 'LABEL_0', 'score': 0.9231427311897278},\n",
       " {'label': 'LABEL_0', 'score': 0.9999176263809204},\n",
       " {'label': 'LABEL_0', 'score': 0.9331066012382507},\n",
       " {'label': 'LABEL_1', 'score': 0.9999994039535522},\n",
       " {'label': 'LABEL_1', 'score': 0.9999951124191284},\n",
       " {'label': 'LABEL_0', 'score': 0.9999938011169434},\n",
       " {'label': 'LABEL_1', 'score': 0.9991680383682251},\n",
       " {'label': 'LABEL_1', 'score': 0.9979798197746277},\n",
       " {'label': 'LABEL_1', 'score': 0.9999853372573853},\n",
       " {'label': 'LABEL_0', 'score': 0.999894380569458},\n",
       " {'label': 'LABEL_1', 'score': 0.8763008117675781},\n",
       " {'label': 'LABEL_1', 'score': 0.999998927116394},\n",
       " {'label': 'LABEL_1', 'score': 0.9995866417884827},\n",
       " {'label': 'LABEL_0', 'score': 0.9999642372131348},\n",
       " {'label': 'LABEL_1', 'score': 0.997820258140564},\n",
       " {'label': 'LABEL_0', 'score': 0.9918524622917175},\n",
       " {'label': 'LABEL_1', 'score': 0.9999986886978149},\n",
       " {'label': 'LABEL_0', 'score': 0.9999207258224487},\n",
       " {'label': 'LABEL_0', 'score': 0.9750989079475403},\n",
       " {'label': 'LABEL_1', 'score': 0.9999977350234985},\n",
       " {'label': 'LABEL_1', 'score': 0.9999996423721313},\n",
       " {'label': 'LABEL_0', 'score': 0.9999721050262451},\n",
       " {'label': 'LABEL_0', 'score': 0.9999910593032837},\n",
       " {'label': 'LABEL_0', 'score': 0.9968063831329346},\n",
       " {'label': 'LABEL_1', 'score': 0.9999997615814209},\n",
       " {'label': 'LABEL_0', 'score': 0.9999127388000488},\n",
       " {'label': 'LABEL_1', 'score': 0.9999980926513672},\n",
       " {'label': 'LABEL_1', 'score': 0.9999990463256836},\n",
       " {'label': 'LABEL_0', 'score': 0.9917812943458557},\n",
       " {'label': 'LABEL_0', 'score': 0.9999232292175293},\n",
       " {'label': 'LABEL_0', 'score': 0.9638915061950684},\n",
       " {'label': 'LABEL_1', 'score': 0.9996533393859863},\n",
       " {'label': 'LABEL_1', 'score': 0.9999998807907104},\n",
       " {'label': 'LABEL_0', 'score': 0.9999333620071411},\n",
       " {'label': 'LABEL_0', 'score': 0.9963769316673279},\n",
       " {'label': 'LABEL_1', 'score': 0.9999992847442627},\n",
       " {'label': 'LABEL_1', 'score': 0.9999977350234985},\n",
       " {'label': 'LABEL_0', 'score': 0.999962329864502},\n",
       " {'label': 'LABEL_1', 'score': 0.9708564877510071},\n",
       " {'label': 'LABEL_1', 'score': 0.896063506603241},\n",
       " {'label': 'LABEL_1', 'score': 0.9999994039535522},\n",
       " {'label': 'LABEL_0', 'score': 0.9999933242797852},\n",
       " {'label': 'LABEL_0', 'score': 0.9924315214157104},\n",
       " {'label': 'LABEL_1', 'score': 0.9999996423721313},\n",
       " {'label': 'LABEL_1', 'score': 0.9999922513961792},\n",
       " {'label': 'LABEL_0', 'score': 0.9999904632568359},\n",
       " {'label': 'LABEL_0', 'score': 0.9895995855331421},\n",
       " ...]"
      ]
     },
     "execution_count": 116,
     "metadata": {},
     "output_type": "execute_result"
    }
   ],
   "source": [
    "predictions = classifier(dataset['validation']['domain'])\n",
    "predictions"
   ]
  },
  {
   "cell_type": "code",
   "execution_count": 117,
   "metadata": {},
   "outputs": [
    {
     "data": {
      "text/plain": [
       "array([0, 1, 1, ..., 0, 0, 0])"
      ]
     },
     "execution_count": 117,
     "metadata": {},
     "output_type": "execute_result"
    }
   ],
   "source": [
    "predicted_labels = [pred['label'] for pred in predictions]\n",
    "\n",
    "predicted_labels =np.array(predicted_labels)\n",
    "predicted_labels = np.where(predicted_labels == 'LABEL_0', 0, 1)\n",
    "predicted_labels"
   ]
  },
  {
   "cell_type": "code",
   "execution_count": 119,
   "metadata": {},
   "outputs": [],
   "source": [
    "#predicted_labels = np.array(predictions['label'][1:100])\n",
    "true_labels = np.array(dataset['validation']['class'])\n"
   ]
  },
  {
   "cell_type": "code",
   "execution_count": 120,
   "metadata": {},
   "outputs": [
    {
     "data": {
      "text/plain": [
       "array([1, 1, 1, ..., 0, 0, 0])"
      ]
     },
     "execution_count": 120,
     "metadata": {},
     "output_type": "execute_result"
    }
   ],
   "source": [
    "true_labels"
   ]
  },
  {
   "cell_type": "code",
   "execution_count": 126,
   "metadata": {},
   "outputs": [],
   "source": [
    "from sklearn.metrics import confusion_matrix\n",
    "from sklearn.metrics import accuracy_score, f1_score, precision_score, recall_score"
   ]
  },
  {
   "cell_type": "code",
   "execution_count": 122,
   "metadata": {},
   "outputs": [
    {
     "data": {
      "text/plain": [
       "array([[  2711,    457],\n",
       "       [ 50231, 238451]])"
      ]
     },
     "execution_count": 122,
     "metadata": {},
     "output_type": "execute_result"
    }
   ],
   "source": [
    "cm = confusion_matrix(true_labels, predicted_labels)\n",
    "cm"
   ]
  },
  {
   "cell_type": "code",
   "execution_count": 127,
   "metadata": {},
   "outputs": [],
   "source": [
    "# Calculate accuracy\n",
    "accuracy = accuracy_score(true_labels, predicted_labels)\n",
    "\n",
    "# Calculate F1 score\n",
    "f1 = f1_score(true_labels, predicted_labels)\n",
    "# Calculate F1 score\n",
    "recall = recall_score(true_labels, predicted_labels)\n",
    "# Calculate F1 score\n",
    "precision = precision_score(true_labels, predicted_labels)"
   ]
  },
  {
   "cell_type": "code",
   "execution_count": 128,
   "metadata": {},
   "outputs": [
    {
     "name": "stdout",
     "output_type": "stream",
     "text": [
      "Accuracy: 0.8263217406201816\n",
      "F1 Score: 0.9039253966147954\n",
      "Recall Score: 0.8259988499456149\n",
      "Precision Score: 0.9980871297738041\n"
     ]
    }
   ],
   "source": [
    "print(f\"Accuracy: {accuracy}\")\n",
    "print(f\"F1 Score: {f1}\")\n",
    "print(f\"Recall Score: {recall}\")\n",
    "print(f\"Precision Score: {precision}\")"
   ]
  },
  {
   "cell_type": "code",
   "execution_count": 129,
   "metadata": {},
   "outputs": [],
   "source": [
    "import pandas as pd"
   ]
  },
  {
   "cell_type": "code",
   "execution_count": 130,
   "metadata": {},
   "outputs": [
    {
     "data": {
      "text/html": [
       "<div>\n",
       "<style scoped>\n",
       "    .dataframe tbody tr th:only-of-type {\n",
       "        vertical-align: middle;\n",
       "    }\n",
       "\n",
       "    .dataframe tbody tr th {\n",
       "        vertical-align: top;\n",
       "    }\n",
       "\n",
       "    .dataframe thead th {\n",
       "        text-align: right;\n",
       "    }\n",
       "</style>\n",
       "<table border=\"1\" class=\"dataframe\">\n",
       "  <thead>\n",
       "    <tr style=\"text-align: right;\">\n",
       "      <th></th>\n",
       "      <th>label</th>\n",
       "      <th>score</th>\n",
       "    </tr>\n",
       "  </thead>\n",
       "  <tbody>\n",
       "    <tr>\n",
       "      <th>0</th>\n",
       "      <td>LABEL_0</td>\n",
       "      <td>0.999975</td>\n",
       "    </tr>\n",
       "    <tr>\n",
       "      <th>1</th>\n",
       "      <td>LABEL_1</td>\n",
       "      <td>1.000000</td>\n",
       "    </tr>\n",
       "    <tr>\n",
       "      <th>2</th>\n",
       "      <td>LABEL_1</td>\n",
       "      <td>0.999976</td>\n",
       "    </tr>\n",
       "    <tr>\n",
       "      <th>3</th>\n",
       "      <td>LABEL_1</td>\n",
       "      <td>0.999649</td>\n",
       "    </tr>\n",
       "    <tr>\n",
       "      <th>4</th>\n",
       "      <td>LABEL_0</td>\n",
       "      <td>0.999977</td>\n",
       "    </tr>\n",
       "    <tr>\n",
       "      <th>...</th>\n",
       "      <td>...</td>\n",
       "      <td>...</td>\n",
       "    </tr>\n",
       "    <tr>\n",
       "      <th>291845</th>\n",
       "      <td>LABEL_0</td>\n",
       "      <td>1.000000</td>\n",
       "    </tr>\n",
       "    <tr>\n",
       "      <th>291846</th>\n",
       "      <td>LABEL_0</td>\n",
       "      <td>0.999993</td>\n",
       "    </tr>\n",
       "    <tr>\n",
       "      <th>291847</th>\n",
       "      <td>LABEL_0</td>\n",
       "      <td>0.999993</td>\n",
       "    </tr>\n",
       "    <tr>\n",
       "      <th>291848</th>\n",
       "      <td>LABEL_0</td>\n",
       "      <td>0.998776</td>\n",
       "    </tr>\n",
       "    <tr>\n",
       "      <th>291849</th>\n",
       "      <td>LABEL_0</td>\n",
       "      <td>0.999980</td>\n",
       "    </tr>\n",
       "  </tbody>\n",
       "</table>\n",
       "<p>291850 rows × 2 columns</p>\n",
       "</div>"
      ],
      "text/plain": [
       "          label     score\n",
       "0       LABEL_0  0.999975\n",
       "1       LABEL_1  1.000000\n",
       "2       LABEL_1  0.999976\n",
       "3       LABEL_1  0.999649\n",
       "4       LABEL_0  0.999977\n",
       "...         ...       ...\n",
       "291845  LABEL_0  1.000000\n",
       "291846  LABEL_0  0.999993\n",
       "291847  LABEL_0  0.999993\n",
       "291848  LABEL_0  0.998776\n",
       "291849  LABEL_0  0.999980\n",
       "\n",
       "[291850 rows x 2 columns]"
      ]
     },
     "execution_count": 130,
     "metadata": {},
     "output_type": "execute_result"
    }
   ],
   "source": [
    "pd.DataFrame(predictions).to_csv(\"predictions.csv\")"
   ]
  }
 ],
 "metadata": {
  "kernelspec": {
   "display_name": "Python 3 (ipykernel)",
   "language": "python",
   "name": "python3"
  },
  "orig_nbformat": 4
 },
 "nbformat": 4,
 "nbformat_minor": 2
}
